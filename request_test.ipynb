{
 "cells": [
  {
   "cell_type": "code",
   "execution_count": 1,
   "metadata": {
    "collapsed": true
   },
   "outputs": [],
   "source": [
    "import json\n",
    "import requests\n",
    "import pandas as pd"
   ]
  },
  {
   "cell_type": "code",
   "execution_count": 39,
   "outputs": [
    {
     "name": "stdout",
     "output_type": "stream",
     "text": [
      "[{'name': 'Innovation DeepTech Acceleration \\nProgram ', 'rating': 1.0, 'type': 'accelerator_services_df'}, {'name': 'Венчурный фонд НТИ', 'rating': 1.0, 'type': 'venture_fond_services_df'}, {'name': 'Российский фонд прямых инвестиций (РФПИ)', 'rating': 1.0, 'type': 'venture_fond_services_df'}, {'name': 'Автономная некоммерческая организация \"Аналитика и\\xa0высокие технологии\"', 'rating': 1.0, 'type': 'engi_centres_services_df'}, {'name': 'VEB Ventures', 'rating': 1.0, 'type': 'venture_fond_services_df'}, {'name': 'Инновационный бизнес-навигатор', 'rating': 1.0, 'type': 'accelerator_services_df'}, {'name': 'Winter Capital', 'rating': 1.0, 'type': 'venture_fond_services_df'}, {'name': 'Venture Bot ', 'rating': 1.0, 'type': 'venture_fond_services_df'}, {'name': 'ИНЖЕНЕР 4.0', 'rating': 1.0, 'type': 'accelerator_services_df'}, {'name': 'Moscow Seed Fund', 'rating': 1.0, 'type': 'venture_fond_services_df'}]\n"
     ]
    }
   ],
   "source": [
    "# 'Сервис',\n",
    "# 'Дата основания',\n",
    "# \"Фильтр 'Рынок' для Инновационных компаний\",\n",
    "# \"Фильтр 'Технологии' для Инновационных компаний\",\n",
    "# 'Бизнес-модель для Инновационных компаний'\n",
    "\n",
    "easy_recommend_to_send = {\n",
    "    'start_up': {\n",
    "        'service': ['Московский акселератор'],\n",
    "        'found_date': ['2021-06-01'],\n",
    "        'market_type': ['Healthcare', 'IndustrialTech'],\n",
    "        'tech_type': ['Биотехнологии'],\n",
    "        'b_model': ['B2C']\n",
    "    }\n",
    "}\n",
    "\n",
    "requests.get('http://127.0.0.1:5000/api/init')\n",
    "\n",
    "res1 = requests.post('http://127.0.0.1:5000/api/easyrecommend', json=easy_recommend_to_send)\n",
    "# res1 = requests.post('http://127.0.0.1:62180/easyrecommend', json=json.dumps(easy_recommend_to_send))\n",
    "print(res1.json())"
   ],
   "metadata": {
    "collapsed": false,
    "pycharm": {
     "name": "#%%\n"
    }
   }
  },
  {
   "cell_type": "code",
   "execution_count": 26,
   "outputs": [
    {
     "name": "stdout",
     "output_type": "stream",
     "text": [
      "[['Innovation DeepTech Acceleration \\nProgram ', 'accelerator_services_df', 1.0], ['Венчурный фонд НТИ', 'venture_fond_services_df', 1.0], ['Российский фонд прямых инвестиций (РФПИ)', 'venture_fond_services_df', 1.0], ['Автономная некоммерческая организация \"Аналитика и\\xa0высокие технологии\"', 'engi_centres_services_df', 1.0], ['VEB Ventures', 'venture_fond_services_df', 1.0], ['Инновационный бизнес-навигатор', 'accelerator_services_df', 1.0], ['Winter Capital', 'venture_fond_services_df', 1.0], ['Venture Bot ', 'venture_fond_services_df', 1.0], ['ИНЖЕНЕР 4.0', 'accelerator_services_df', 1.0], ['Moscow Seed Fund', 'venture_fond_services_df', 1.0], ['Акселератор Татнефть', 'accelerator_services_df', 1.0], ['Школьный акселератор SberZ', 'accelerator_services_df', 1.0], ['Emery Capital', 'venture_fond_services_df', 1.0], ['Cabra VC', 'venture_fond_services_df', 1.0], ['SberStudent', 'accelerator_services_df', 1.0], ['Акселератор Цифрового прорыва', 'accelerator_services_df', 1.0], ['StartHub.Moscow', 'accelerator_services_df', 1.0], ['ИНЖЕНЕР 4.0', 'accelerator_services_df', 1.0], ['Дизайн-квартал \"Флакон\"', 'pilot_services_df', 1.0], ['Школьный акселератор SberZ', 'accelerator_services_df', 1.0], ['Cosmodrome', 'accelerator_services_df', 1.0], ['StartHub.Moscow', 'accelerator_services_df', 1.0], ['Winno Moscow 2021', 'accelerator_services_df', 1.0], ['Тест тестович', 'business_incubs_services_df', 1.0], ['Физтех.Старт', 'accelerator_services_df', 1.0], ['WeWork Labs', 'business_incubs_services_df', 1.0], ['MUIV.LAB', 'accelerator_services_df', 1.0], ['Институт инновационного проектирования и инжиниринга', 'engi_centres_services_df', 1.0], ['Экспортеры 2.0', 'accelerator_services_df', 1.0], ['С-Групп Венчурс', 'venture_fond_services_df', 1.0], ['ВТБ Капитал Управление Активами', 'venture_fond_services_df', 1.0], ['Дальневосточный фонд высоких технологий', 'venture_fond_services_df', 1.0], ['Winno Moscow ', 'accelerator_services_df', 1.0], ['Altus Capital ', 'venture_fond_services_df', 1.0], ['SMG Capital ', 'venture_fond_services_df', 1.0], ['Vershina Capital', 'venture_fond_services_df', 1.0], ['VPE Capital', 'venture_fond_services_df', 1.0], [' Startup Lab', 'venture_fond_services_df', 1.0], ['Физтех.Старт', 'accelerator_services_df', 1.0], ['Молодежная предпринимательская инициатива', 'venture_fond_services_df', 1.0], ['Акселератор Mendeleev', 'accelerator_services_df', 1.0], ['Фонд поддержки проектов НТИ', 'venture_fond_services_df', 1.0], ['NRG Ventures', 'venture_fond_services_df', 1.0], ['S7 Ventures', 'venture_fond_services_df', 1.0], ['A&A Capital', 'venture_fond_services_df', 1.0], ['Экспортный акселератор от Сбербанка', 'accelerator_services_df', 1.0], ['Phystech Leadership Fund', 'venture_fond_services_df', 1.0], ['Акселератор экспортного роста', 'accelerator_services_df', 1.0], ['RBF Ventures', 'venture_fond_services_df', 1.0], ['Экспортеры 2.0', 'accelerator_services_df', 1.0], ['SmartHub', 'venture_fond_services_df', 1.0], ['DV Capital', 'venture_fond_services_df', 1.0], ['A.Partners', 'venture_fond_services_df', 1.0], ['Авенир', 'venture_fond_services_df', 1.0], ['Croc Product Partner', 'accelerator_services_df', 0.6666666666666666], ['Generation S и FERRING', 'accelerator_services_df', 0.6666666666666666], ['Экспортный акселератор Деловой среды', 'accelerator_services_df', 0.6666666666666666], ['Бизнес-акселератор Росатома', 'accelerator_services_df', 0.6666666666666666], ['Бизнес-инкубатор ГУУ', 'business_incubs_services_df', 0.6666666666666666], ['MUIV.LAB', 'accelerator_services_df', 0.6666666666666666], ['Стартап-платформа ТМХ', 'accelerator_services_df', 0.6666666666666666], ['Почтатех', 'accelerator_services_df', 0.6666666666666666], ['Экспортный акселератор для московских компаний', 'accelerator_services_df', 0.6666666666666666], ['Restart 360', 'accelerator_services_df', 0.6666666666666666], ['Московский акселератор. Трек BiomedTech', 'accelerator_services_df', 0.6666666666666666], ['Уралхим – Элемент роста', 'accelerator_services_df', 0.6666666666666666], ['MGNTech', 'accelerator_services_df', 0.6666666666666666], ['Акселератор социальных проектов ФПСП', 'accelerator_services_df', 0.6666666666666666], ['Бизнес-инкубатор МФТИ', 'business_incubs_services_df', 0.6666666666666666], ['Акселератор социальных проектов МБМ', 'accelerator_services_df', 0.6666666666666666], ['GoGlobal ', 'accelerator_services_df', 0.6666666666666666], ['5G Инкубатор МТС', 'business_incubs_services_df', 0.6666666666666666], ['Инжиниринговый центр РЭУ им. Г.В. Плеханова', 'engi_centres_services_df', 0.6666666666666666], ['Бизнес-инкубатор Технопарка \"Строгино\"', 'business_incubs_services_df', 0.6666666666666666], ['Sistema SmartTech', 'venture_fond_services_df', 0.6666666666666666], ['Primer Capital', 'venture_fond_services_df', 0.6666666666666666], ['Sistema VC', 'venture_fond_services_df', 0.6666666666666666], ['UFG Private Equity', 'venture_fond_services_df', 0.6666666666666666], ['Росинфокоминвест', 'venture_fond_services_df', 0.6666666666666666], ['Digital Evolution Ventures', 'venture_fond_services_df', 0.6666666666666666], ['Gagarin Capital', 'venture_fond_services_df', 0.6666666666666666], ['ExpoCapital', 'venture_fond_services_df', 0.6666666666666666], ['ФармМед Инновации', 'venture_fond_services_df', 0.6666666666666666], ['Frontier Ventures', 'venture_fond_services_df', 0.6666666666666666], ['RBV Capital', 'venture_fond_services_df', 0.6666666666666666], ['Российско-китайский\\nинвестиционный фонд', 'venture_fond_services_df', 0.6666666666666666], ['Ruvento Ventures', 'venture_fond_services_df', 0.6666666666666666], ['KirovGroup Venture', 'venture_fond_services_df', 0.6666666666666666], ['Ташир Медика', 'venture_fond_services_df', 0.6666666666666666], ['Svetofor Ventures', 'venture_fond_services_df', 0.6666666666666666], ['IxD Capital', 'venture_fond_services_df', 0.6666666666666666], ['Indigo Capital Partners', 'venture_fond_services_df', 0.6666666666666666], ['Эльбрус Капитал', 'venture_fond_services_df', 0.6666666666666666], ['Бизнес-инкубатор РЭУ им. Г.В. Плеханова', 'business_incubs_services_df', 0.6666666666666666], ['Федеральный центр мозга и нейротехнологий', 'pilot_services_df', 0.6666666666666666], ['Бизнес-инкубатор НИУ ВШЭ', 'business_incubs_services_df', 0.6666666666666666], ['Бизнес-инкубатор \"Зеленоград\"', 'business_incubs_services_df', 0.6666666666666666], ['Бизнес-инкубатор МГУ им. М. В. Ломоносова', 'business_incubs_services_df', 0.6666666666666666], ['Kaspersky Innovation Hub', 'business_incubs_services_df', 0.6666666666666666], ['\"КоЛаборатор®\"\\xa0', 'business_incubs_services_df', 0.6666666666666666]]\n"
     ]
    }
   ],
   "source": [
    "# 'Сервис',\n",
    "# 'Дата основания',\n",
    "# \"Фильтр 'Рынок' для Инновационных компаний\",\n",
    "# \"Фильтр 'Технологии' для Инновационных компаний\",\n",
    "# 'Бизнес-модель для Инновационных компаний'\n",
    "\n",
    "easy_recommend_to_send = {\n",
    "    'start_up': {\n",
    "        'service': 'Московский акселератор',\n",
    "        'found_date': '2021-06-01',\n",
    "        'market_type': ['Healthcare', 'IndustrialTech'],\n",
    "        'tech_type': ['Биотехнологии'],\n",
    "        'b_model': ['B2C']\n",
    "    }\n",
    "}\n",
    "\n",
    "requests.get('https://testdragonsflask.herokuapp.com/api/init')\n",
    "\n",
    "res_heroku = requests.post('https://testdragonsflask.herokuapp.com/api/easyrecommend', json=easy_recommend_to_send)\n",
    "print(res_heroku.json())"
   ],
   "metadata": {
    "collapsed": false,
    "pycharm": {
     "name": "#%%\n"
    }
   }
  },
  {
   "cell_type": "code",
   "execution_count": 2,
   "outputs": [],
   "source": [
    "companies_dict = pd.read_excel('D:\\heroku_test\\Companies.xlsx', sheet_name=None)\n",
    "deals_dict = pd.read_excel('D:\\heroku_test\\Deals.xlsx', sheet_name=None)\n",
    "services_dict = pd.read_excel('D:\\heroku_test\\Services.xlsx', sheet_name=None)"
   ],
   "metadata": {
    "collapsed": false,
    "pycharm": {
     "name": "#%%\n"
    }
   }
  },
  {
   "cell_type": "code",
   "execution_count": 3,
   "outputs": [],
   "source": [
    "engi_centres_services_df = services_dict['Список инжиниринговых центров'][['Название объекта', 'Рынок', 'Технологии', 'Сервисы']]"
   ],
   "metadata": {
    "collapsed": false,
    "pycharm": {
     "name": "#%%\n"
    }
   }
  },
  {
   "cell_type": "code",
   "execution_count": 4,
   "outputs": [],
   "source": [
    "engi_centres_services_df.to_csv('engi_centres_services.csv')\n"
   ],
   "metadata": {
    "collapsed": false,
    "pycharm": {
     "name": "#%%\n"
    }
   }
  }
 ],
 "metadata": {
  "kernelspec": {
   "display_name": "Python 3",
   "language": "python",
   "name": "python3"
  },
  "language_info": {
   "codemirror_mode": {
    "name": "ipython",
    "version": 2
   },
   "file_extension": ".py",
   "mimetype": "text/x-python",
   "name": "python",
   "nbconvert_exporter": "python",
   "pygments_lexer": "ipython2",
   "version": "2.7.6"
  }
 },
 "nbformat": 4,
 "nbformat_minor": 0
}