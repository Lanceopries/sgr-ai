{
 "cells": [
  {
   "cell_type": "code",
   "execution_count": 1,
   "metadata": {
    "collapsed": true
   },
   "outputs": [],
   "source": [
    "import json\n",
    "import requests\n",
    "import pandas as pd"
   ]
  },
  {
   "cell_type": "code",
   "execution_count": 15,
   "outputs": [
    {
     "name": "stdout",
     "output_type": "stream",
     "text": [
      "[{'name': 'A&A Capital', 'rating': 4.0, 'type': 'venture_fond_services_df'}, {'name': 'SmartHub', 'rating': 4.0, 'type': 'venture_fond_services_df'}, {'name': 'Венчурный фонд НТИ', 'rating': 4.0, 'type': 'venture_fond_services_df'}, {'name': 'A.Partners', 'rating': 4.0, 'type': 'venture_fond_services_df'}, {'name': 'RBF Ventures', 'rating': 4.0, 'type': 'venture_fond_services_df'}, {'name': 'Moscow Seed Fund', 'rating': 4.0, 'type': 'venture_fond_services_df'}, {'name': 'S7 Ventures', 'rating': 4.0, 'type': 'venture_fond_services_df'}, {'name': ' Startup Lab', 'rating': 4.0, 'type': 'venture_fond_services_df'}, {'name': 'Venture Bot ', 'rating': 4.0, 'type': 'venture_fond_services_df'}, {'name': 'Cabra VC', 'rating': 4.0, 'type': 'venture_fond_services_df'}]\n"
     ]
    }
   ],
   "source": [
    "# 'Сервис',\n",
    "# 'Дата основания',\n",
    "# \"Фильтр 'Рынок' для Инновационных компаний\",\n",
    "# \"Фильтр 'Технологии' для Инновационных компаний\",\n",
    "# 'Бизнес-модель для Инновационных компаний'\n",
    "\n",
    "easy_recommend_to_send = {\n",
    "    'start_up': {\n",
    "        'service': ['Найти финансирование'],\n",
    "        'found_date': ['2021-06-01'],\n",
    "        'market_type': ['Healthcare', 'IndustrialTech'],\n",
    "        'tech_type': ['Биотехнологии'],\n",
    "        'b_model': ['B2C'],\n",
    "        'evo_stage': ['Посевная']\n",
    "    }\n",
    "}\n",
    "\n",
    "requests.get('http://127.0.0.1:5000/api/init')\n",
    "\n",
    "res1 = requests.post('http://127.0.0.1:5000/api/easyrecommend', json=easy_recommend_to_send)\n",
    "# res1 = requests.post('http://127.0.0.1:62180/easyrecommend', json=json.dumps(easy_recommend_to_send))\n",
    "print(res1.json())"
   ],
   "metadata": {
    "collapsed": false,
    "pycharm": {
     "name": "#%%\n"
    }
   }
  },
  {
   "cell_type": "code",
   "execution_count": 14,
   "outputs": [
    {
     "name": "stdout",
     "output_type": "stream",
     "text": [
      "[{'name': 'ИНЖЕНЕР 4.0', 'rating': 3.0, 'type': 'accelerator_services_df'}, {'name': 'Innovation DeepTech Acceleration \\nProgram ', 'rating': 3.0, 'type': 'accelerator_services_df'}, {'name': 'Winno Moscow ', 'rating': 3.0, 'type': 'accelerator_services_df'}, {'name': 'Физтех.Старт', 'rating': 3.0, 'type': 'accelerator_services_df'}, {'name': 'Акселератор Цифрового прорыва', 'rating': 3.0, 'type': 'accelerator_services_df'}, {'name': 'Акселератор социальных проектов МБМ', 'rating': 3.0, 'type': 'accelerator_services_df'}, {'name': 'Акселератор социальных проектов ФПСП', 'rating': 3.0, 'type': 'accelerator_services_df'}, {'name': 'Акселератор Mendeleev', 'rating': 3.0, 'type': 'accelerator_services_df'}, {'name': 'Уралхим – Элемент роста', 'rating': 2.0, 'type': 'accelerator_services_df'}, {'name': 'Акселератор Татнефть', 'rating': 2.0, 'type': 'accelerator_services_df'}]\n"
     ]
    }
   ],
   "source": [
    "# 'Сервис',\n",
    "# 'Дата основания',\n",
    "# \"Фильтр 'Рынок' для Инновационных компаний\",\n",
    "# \"Фильтр 'Технологии' для Инновационных компаний\",\n",
    "# 'Бизнес-модель для Инновационных компаний'\n",
    "\n",
    "easy_recommend_to_send = {\n",
    "    'start_up': {\n",
    "        'service': ['Расширить нетворк'],\n",
    "        'found_date': ['2021-06-01'],\n",
    "        'market_type': ['Healthcare', 'CleanTech'],\n",
    "        'tech_type': ['Биотехнологии'],\n",
    "        'b_model': ['B2C'],\n",
    "        'evo_stage': ['Любая']\n",
    "    }\n",
    "}\n",
    "\n",
    "requests.get('http://127.0.0.1:5000/api/init')\n",
    "\n",
    "res1 = requests.post('http://127.0.0.1:5000/api/easyrecommend', json=easy_recommend_to_send)\n",
    "# res1 = requests.post('http://127.0.0.1:62180/easyrecommend', json=json.dumps(easy_recommend_to_send))\n",
    "print(res1.json())"
   ],
   "metadata": {
    "collapsed": false,
    "pycharm": {
     "name": "#%%\n"
    }
   }
  },
  {
   "cell_type": "code",
   "execution_count": 42,
   "outputs": [
    {
     "name": "stdout",
     "output_type": "stream",
     "text": [
      "[{'name': 'Российская венчурная компания', 'rating': 1.0, 'type': 'institutes_services_df'}, {'name': 'Innovation DeepTech Acceleration \\nProgram ', 'rating': 1.0, 'type': 'accelerator_services_df'}, {'name': 'Ассоциация разработчиков программных продуктов \"Отечественный софт\" ', 'rating': 1.0, 'type': 'institutes_services_df'}, {'name': 'Фонд инфраструктурных и образовательных программ', 'rating': 1.0, 'type': 'institutes_services_df'}, {'name': 'Фонд Сколково', 'rating': 1.0, 'type': 'institutes_services_df'}, {'name': 'Агентство стратегических инициатив по продвижению новых проектов', 'rating': 1.0, 'type': 'institutes_services_df'}, {'name': 'Инжиниринговый центр \"Автоматика и робототехника\" МГТУ им. Н.Э.Баумана', 'rating': 1.0, 'type': 'engi_centres_services_df'}, {'name': ' Startup Lab', 'rating': 1.0, 'type': 'venture_fond_services_df'}, {'name': 'Московский экспортный центр', 'rating': 1.0, 'type': 'institutes_services_df'}, {'name': 'Тест тестович', 'rating': 1.0, 'type': 'business_incubs_services_df'}]\n"
     ]
    }
   ],
   "source": [
    "# 'Сервис',\n",
    "# 'Дата основания',\n",
    "# \"Фильтр 'Рынок' для Инновационных компаний\",\n",
    "# \"Фильтр 'Технологии' для Инновационных компаний\",\n",
    "# 'Бизнес-модель для Инновационных компаний'\n",
    "\n",
    "easy_recommend_to_send = {\n",
    "    'start_up': {\n",
    "        'service': 'Московский акселератор',\n",
    "        'found_date': '2021-06-01',\n",
    "        'market_type': ['Healthcare', 'IndustrialTech'],\n",
    "        'tech_type': ['Биотехнологии'],\n",
    "        'b_model': ['B2C']\n",
    "    }\n",
    "}\n",
    "\n",
    "requests.get('https://testdragonsflask.herokuapp.com/api/init')\n",
    "\n",
    "res_heroku = requests.post('https://testdragonsflask.herokuapp.com/api/easyrecommend', json=easy_recommend_to_send)\n",
    "print(res_heroku.json())"
   ],
   "metadata": {
    "collapsed": false,
    "pycharm": {
     "name": "#%%\n"
    }
   }
  },
  {
   "cell_type": "code",
   "execution_count": 2,
   "outputs": [],
   "source": [
    "companies_dict = pd.read_excel('D:\\heroku_test\\Companies.xlsx', sheet_name=None)\n",
    "deals_dict = pd.read_excel('D:\\heroku_test\\Deals.xlsx', sheet_name=None)\n",
    "services_dict = pd.read_excel('D:\\heroku_test\\Services.xlsx', sheet_name=None)"
   ],
   "metadata": {
    "collapsed": false,
    "pycharm": {
     "name": "#%%\n"
    }
   }
  },
  {
   "cell_type": "code",
   "execution_count": 3,
   "outputs": [],
   "source": [
    "engi_centres_services_df = services_dict['Список инжиниринговых центров'][['Название объекта', 'Рынок', 'Технологии', 'Сервисы']]"
   ],
   "metadata": {
    "collapsed": false,
    "pycharm": {
     "name": "#%%\n"
    }
   }
  },
  {
   "cell_type": "code",
   "execution_count": 4,
   "outputs": [],
   "source": [
    "engi_centres_services_df.to_csv('engi_centres_services.csv')\n"
   ],
   "metadata": {
    "collapsed": false,
    "pycharm": {
     "name": "#%%\n"
    }
   }
  }
 ],
 "metadata": {
  "kernelspec": {
   "display_name": "Python 3",
   "language": "python",
   "name": "python3"
  },
  "language_info": {
   "codemirror_mode": {
    "name": "ipython",
    "version": 2
   },
   "file_extension": ".py",
   "mimetype": "text/x-python",
   "name": "python",
   "nbconvert_exporter": "python",
   "pygments_lexer": "ipython2",
   "version": "2.7.6"
  }
 },
 "nbformat": 4,
 "nbformat_minor": 0
}