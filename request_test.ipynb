{
 "cells": [
  {
   "cell_type": "code",
   "execution_count": 2,
   "metadata": {
    "collapsed": true
   },
   "outputs": [],
   "source": [
    "import json\n",
    "import requests\n",
    "import pandas as pd"
   ]
  },
  {
   "cell_type": "code",
   "execution_count": 117,
   "outputs": [
    {
     "name": "stdout",
     "output_type": "stream",
     "text": [
      "<Response [500]>\n"
     ]
    }
   ],
   "source": [
    "# 'Сервис',\n",
    "# 'Дата основания',\n",
    "# \"Фильтр 'Рынок' для Инновационных компаний\",\n",
    "# \"Фильтр 'Технологии' для Инновационных компаний\",\n",
    "# 'Бизнес-модель для Инновационных компаний'\n",
    "\n",
    "easy_recommend_to_send = {\n",
    "    'start_up': {\n",
    "        'service': ['Найти финансирование'],\n",
    "        'found_date': ['2021-06-01'],\n",
    "        'market_type': ['Healthcare', 'IndustrialTech'],\n",
    "        'tech_type': ['Биотехнологии'],\n",
    "        'tech_stack': ['ИТ, разработка ПО'],\n",
    "        'techp_residents': ['Технопарк \"Сколково\"'],\n",
    "        'b_model': ['B2C'],\n",
    "        'evo_stage': ['Посевная'],\n",
    "        'skolk_inno': [1],\n",
    "        'msk_inno': [1],\n",
    "        'nav_stat': [1],\n",
    "        'inno_comp': [1],\n",
    "        'start_up': [1],\n",
    "        'msp': [1],\n",
    "        'msp_cat': ['ИП Микро']\n",
    "    }\n",
    "}\n",
    "\n",
    "ping_answer = requests.get('https://testdragonsflask.herokuapp.com/api/ping')\n",
    "\n",
    "get_answer = requests.get('https://testdragonsflask.herokuapp.com/api/init')\n",
    "\n",
    "res_heroku = requests.post(\n",
    "    'https://testdragonsflask.herokuapp.com/api/personalrecommend',\n",
    "    json=easy_recommend_to_send\n",
    ")\n",
    "\n",
    "ping_answer_2 = requests.get('https://testdragonsflask.herokuapp.com/api/ping')\n",
    "print(res_heroku)"
   ],
   "metadata": {
    "collapsed": false,
    "pycharm": {
     "name": "#%%\n"
    }
   }
  },
  {
   "cell_type": "code",
   "execution_count": 120,
   "outputs": [
    {
     "data": {
      "text/plain": "{'status': 'ok'}"
     },
     "execution_count": 120,
     "metadata": {},
     "output_type": "execute_result"
    }
   ],
   "source": [
    "\n",
    "ping_answer.json()\n",
    "\n",
    "ping_answer_2.json()\n",
    "\n",
    "get_answer.json()\n"
   ],
   "metadata": {
    "collapsed": false,
    "pycharm": {
     "name": "#%%\n"
    }
   }
  },
  {
   "cell_type": "code",
   "execution_count": 104,
   "outputs": [
    {
     "name": "stdout",
     "output_type": "stream",
     "text": [
      "[{'name': 'Bayer', 'rating': 1.0, 'type': 'corporate_services_df'}, {'name': 'Р-фарм', 'rating': 1.0, 'type': 'corporate_services_df'}, {'name': 'Венчурный фонд НТИ', 'rating': 0.8375990557400715, 'type': 'venture_fond_services_df'}, {'name': 'Primer Capital', 'rating': 0.8266241496450728, 'type': 'venture_fond_services_df'}, {'name': 'Generation S и FERRING', 'rating': 0.8029772512472242, 'type': 'accelerator_services_df'}, {'name': 'RBV Capital', 'rating': 0.7983035605512375, 'type': 'venture_fond_services_df'}, {'name': 'A&A Capital', 'rating': 0.7646475619791595, 'type': 'venture_fond_services_df'}, {'name': 'Moscow Seed Fund', 'rating': 0.7646475619791595, 'type': 'venture_fond_services_df'}, {'name': 'Phystech Leadership Fund', 'rating': 0.7646475619791595, 'type': 'venture_fond_services_df'}, {'name': 'SmartHub', 'rating': 0.7646475619791595, 'type': 'venture_fond_services_df'}]\n"
     ]
    }
   ],
   "source": [
    "# 'Сервис',\n",
    "# 'Дата основания',\n",
    "# \"Фильтр 'Рынок' для Инновационных компаний\",\n",
    "# \"Фильтр 'Технологии' для Инновационных компаний\",\n",
    "# 'Бизнес-модель для Инновационных компаний'\n",
    "\n",
    "easy_recommend_to_send = {\n",
    "    'start_up': {\n",
    "        'service': ['Найти финансирование'],\n",
    "        'found_date': ['2021-06-01'],\n",
    "        'market_type': ['Healthcare', 'IndustrialTech'],\n",
    "        'tech_type': ['Биотехнологии'],\n",
    "        'tech_stack': ['ИТ, разработка ПО'],\n",
    "        'techp_residents': ['Технопарк \"Сколково\"'],\n",
    "        'b_model': ['B2C'],\n",
    "        'evo_stage': ['Посевная'],\n",
    "        'skolk_inno': [1],\n",
    "        'msk_inno': [1],\n",
    "        'nav_stat': [1],\n",
    "        'inno_comp': [1],\n",
    "        'start_up': [1],\n",
    "        'msp': [1],\n",
    "        'msp_cat': ['ИП Микро']\n",
    "    }\n",
    "}\n",
    "\n",
    "requests.get('http://127.0.0.1:5000/api/init')\n",
    "\n",
    "res1 = requests.post('http://127.0.0.1:5000/api/personalrecommend', json=easy_recommend_to_send)\n",
    "# res1 = requests.post('http://127.0.0.1:62180/easyrecommend', json=json.dumps(easy_recommend_to_send))\n",
    "print(res1.json())"
   ],
   "metadata": {
    "collapsed": false,
    "pycharm": {
     "name": "#%%\n"
    }
   }
  },
  {
   "cell_type": "code",
   "execution_count": 14,
   "outputs": [
    {
     "name": "stdout",
     "output_type": "stream",
     "text": [
      "[{'name': 'ИНЖЕНЕР 4.0', 'rating': 3.0, 'type': 'accelerator_services_df'}, {'name': 'Innovation DeepTech Acceleration \\nProgram ', 'rating': 3.0, 'type': 'accelerator_services_df'}, {'name': 'Winno Moscow ', 'rating': 3.0, 'type': 'accelerator_services_df'}, {'name': 'Физтех.Старт', 'rating': 3.0, 'type': 'accelerator_services_df'}, {'name': 'Акселератор Цифрового прорыва', 'rating': 3.0, 'type': 'accelerator_services_df'}, {'name': 'Акселератор социальных проектов МБМ', 'rating': 3.0, 'type': 'accelerator_services_df'}, {'name': 'Акселератор социальных проектов ФПСП', 'rating': 3.0, 'type': 'accelerator_services_df'}, {'name': 'Акселератор Mendeleev', 'rating': 3.0, 'type': 'accelerator_services_df'}, {'name': 'Уралхим – Элемент роста', 'rating': 2.0, 'type': 'accelerator_services_df'}, {'name': 'Акселератор Татнефть', 'rating': 2.0, 'type': 'accelerator_services_df'}]\n"
     ]
    }
   ],
   "source": [
    "# 'Сервис',\n",
    "# 'Дата основания',\n",
    "# \"Фильтр 'Рынок' для Инновационных компаний\",\n",
    "# \"Фильтр 'Технологии' для Инновационных компаний\",\n",
    "# 'Бизнес-модель для Инновационных компаний'\n",
    "\n",
    "easy_recommend_to_send = {\n",
    "    'start_up': {\n",
    "        'service': ['Расширить нетворк'],\n",
    "        'found_date': ['2021-06-01'],\n",
    "        'market_type': ['Healthcare', 'CleanTech'],\n",
    "        'tech_type': ['Биотехнологии'],\n",
    "        'b_model': ['B2C'],\n",
    "        'evo_stage': ['Любая']\n",
    "    }\n",
    "}\n",
    "\n",
    "requests.get('http://127.0.0.1:5000/api/init')\n",
    "\n",
    "res1 = requests.post('http://127.0.0.1:5000/api/easyrecommend', json=easy_recommend_to_send)\n",
    "# res1 = requests.post('http://127.0.0.1:62180/easyrecommend', json=json.dumps(easy_recommend_to_send))\n",
    "print(res1.json())"
   ],
   "metadata": {
    "collapsed": false,
    "pycharm": {
     "name": "#%%\n"
    }
   }
  },
  {
   "cell_type": "code",
   "execution_count": 13,
   "outputs": [
    {
     "data": {
      "text/plain": "1"
     },
     "execution_count": 13,
     "metadata": {},
     "output_type": "execute_result"
    }
   ],
   "source": [
    "int(True)\n"
   ],
   "metadata": {
    "collapsed": false,
    "pycharm": {
     "name": "#%%\n"
    }
   }
  },
  {
   "cell_type": "code",
   "execution_count": 15,
   "outputs": [
    {
     "ename": "ConnectionError",
     "evalue": "('Connection aborted.', ConnectionResetError(10054, 'Удаленный хост принудительно разорвал существующее подключение', None, 10054, None))",
     "output_type": "error",
     "traceback": [
      "\u001B[1;31m---------------------------------------------------------------------------\u001B[0m",
      "\u001B[1;31mConnectionResetError\u001B[0m                      Traceback (most recent call last)",
      "\u001B[1;32m~\\anaconda3\\envs\\bot\\lib\\site-packages\\urllib3\\connectionpool.py\u001B[0m in \u001B[0;36murlopen\u001B[1;34m(self, method, url, body, headers, retries, redirect, assert_same_host, timeout, pool_timeout, release_conn, chunked, body_pos, **response_kw)\u001B[0m\n\u001B[0;32m    698\u001B[0m             \u001B[1;31m# Make the request on the httplib connection object.\u001B[0m\u001B[1;33m\u001B[0m\u001B[1;33m\u001B[0m\u001B[1;33m\u001B[0m\u001B[0m\n\u001B[1;32m--> 699\u001B[1;33m             httplib_response = self._make_request(\n\u001B[0m\u001B[0;32m    700\u001B[0m                 \u001B[0mconn\u001B[0m\u001B[1;33m,\u001B[0m\u001B[1;33m\u001B[0m\u001B[1;33m\u001B[0m\u001B[0m\n",
      "\u001B[1;32m~\\anaconda3\\envs\\bot\\lib\\site-packages\\urllib3\\connectionpool.py\u001B[0m in \u001B[0;36m_make_request\u001B[1;34m(self, conn, method, url, timeout, chunked, **httplib_request_kw)\u001B[0m\n\u001B[0;32m    444\u001B[0m                     \u001B[1;31m# Otherwise it looks like a bug in the code.\u001B[0m\u001B[1;33m\u001B[0m\u001B[1;33m\u001B[0m\u001B[1;33m\u001B[0m\u001B[0m\n\u001B[1;32m--> 445\u001B[1;33m                     \u001B[0msix\u001B[0m\u001B[1;33m.\u001B[0m\u001B[0mraise_from\u001B[0m\u001B[1;33m(\u001B[0m\u001B[0me\u001B[0m\u001B[1;33m,\u001B[0m \u001B[1;32mNone\u001B[0m\u001B[1;33m)\u001B[0m\u001B[1;33m\u001B[0m\u001B[1;33m\u001B[0m\u001B[0m\n\u001B[0m\u001B[0;32m    446\u001B[0m         \u001B[1;32mexcept\u001B[0m \u001B[1;33m(\u001B[0m\u001B[0mSocketTimeout\u001B[0m\u001B[1;33m,\u001B[0m \u001B[0mBaseSSLError\u001B[0m\u001B[1;33m,\u001B[0m \u001B[0mSocketError\u001B[0m\u001B[1;33m)\u001B[0m \u001B[1;32mas\u001B[0m \u001B[0me\u001B[0m\u001B[1;33m:\u001B[0m\u001B[1;33m\u001B[0m\u001B[1;33m\u001B[0m\u001B[0m\n",
      "\u001B[1;32m~\\anaconda3\\envs\\bot\\lib\\site-packages\\urllib3\\packages\\six.py\u001B[0m in \u001B[0;36mraise_from\u001B[1;34m(value, from_value)\u001B[0m\n",
      "\u001B[1;32m~\\anaconda3\\envs\\bot\\lib\\site-packages\\urllib3\\connectionpool.py\u001B[0m in \u001B[0;36m_make_request\u001B[1;34m(self, conn, method, url, timeout, chunked, **httplib_request_kw)\u001B[0m\n\u001B[0;32m    439\u001B[0m                 \u001B[1;32mtry\u001B[0m\u001B[1;33m:\u001B[0m\u001B[1;33m\u001B[0m\u001B[1;33m\u001B[0m\u001B[0m\n\u001B[1;32m--> 440\u001B[1;33m                     \u001B[0mhttplib_response\u001B[0m \u001B[1;33m=\u001B[0m \u001B[0mconn\u001B[0m\u001B[1;33m.\u001B[0m\u001B[0mgetresponse\u001B[0m\u001B[1;33m(\u001B[0m\u001B[1;33m)\u001B[0m\u001B[1;33m\u001B[0m\u001B[1;33m\u001B[0m\u001B[0m\n\u001B[0m\u001B[0;32m    441\u001B[0m                 \u001B[1;32mexcept\u001B[0m \u001B[0mBaseException\u001B[0m \u001B[1;32mas\u001B[0m \u001B[0me\u001B[0m\u001B[1;33m:\u001B[0m\u001B[1;33m\u001B[0m\u001B[1;33m\u001B[0m\u001B[0m\n",
      "\u001B[1;32m~\\anaconda3\\envs\\bot\\lib\\http\\client.py\u001B[0m in \u001B[0;36mgetresponse\u001B[1;34m(self)\u001B[0m\n\u001B[0;32m   1346\u001B[0m             \u001B[1;32mtry\u001B[0m\u001B[1;33m:\u001B[0m\u001B[1;33m\u001B[0m\u001B[1;33m\u001B[0m\u001B[0m\n\u001B[1;32m-> 1347\u001B[1;33m                 \u001B[0mresponse\u001B[0m\u001B[1;33m.\u001B[0m\u001B[0mbegin\u001B[0m\u001B[1;33m(\u001B[0m\u001B[1;33m)\u001B[0m\u001B[1;33m\u001B[0m\u001B[1;33m\u001B[0m\u001B[0m\n\u001B[0m\u001B[0;32m   1348\u001B[0m             \u001B[1;32mexcept\u001B[0m \u001B[0mConnectionError\u001B[0m\u001B[1;33m:\u001B[0m\u001B[1;33m\u001B[0m\u001B[1;33m\u001B[0m\u001B[0m\n",
      "\u001B[1;32m~\\anaconda3\\envs\\bot\\lib\\http\\client.py\u001B[0m in \u001B[0;36mbegin\u001B[1;34m(self)\u001B[0m\n\u001B[0;32m    306\u001B[0m         \u001B[1;32mwhile\u001B[0m \u001B[1;32mTrue\u001B[0m\u001B[1;33m:\u001B[0m\u001B[1;33m\u001B[0m\u001B[1;33m\u001B[0m\u001B[0m\n\u001B[1;32m--> 307\u001B[1;33m             \u001B[0mversion\u001B[0m\u001B[1;33m,\u001B[0m \u001B[0mstatus\u001B[0m\u001B[1;33m,\u001B[0m \u001B[0mreason\u001B[0m \u001B[1;33m=\u001B[0m \u001B[0mself\u001B[0m\u001B[1;33m.\u001B[0m\u001B[0m_read_status\u001B[0m\u001B[1;33m(\u001B[0m\u001B[1;33m)\u001B[0m\u001B[1;33m\u001B[0m\u001B[1;33m\u001B[0m\u001B[0m\n\u001B[0m\u001B[0;32m    308\u001B[0m             \u001B[1;32mif\u001B[0m \u001B[0mstatus\u001B[0m \u001B[1;33m!=\u001B[0m \u001B[0mCONTINUE\u001B[0m\u001B[1;33m:\u001B[0m\u001B[1;33m\u001B[0m\u001B[1;33m\u001B[0m\u001B[0m\n",
      "\u001B[1;32m~\\anaconda3\\envs\\bot\\lib\\http\\client.py\u001B[0m in \u001B[0;36m_read_status\u001B[1;34m(self)\u001B[0m\n\u001B[0;32m    267\u001B[0m     \u001B[1;32mdef\u001B[0m \u001B[0m_read_status\u001B[0m\u001B[1;33m(\u001B[0m\u001B[0mself\u001B[0m\u001B[1;33m)\u001B[0m\u001B[1;33m:\u001B[0m\u001B[1;33m\u001B[0m\u001B[1;33m\u001B[0m\u001B[0m\n\u001B[1;32m--> 268\u001B[1;33m         \u001B[0mline\u001B[0m \u001B[1;33m=\u001B[0m \u001B[0mstr\u001B[0m\u001B[1;33m(\u001B[0m\u001B[0mself\u001B[0m\u001B[1;33m.\u001B[0m\u001B[0mfp\u001B[0m\u001B[1;33m.\u001B[0m\u001B[0mreadline\u001B[0m\u001B[1;33m(\u001B[0m\u001B[0m_MAXLINE\u001B[0m \u001B[1;33m+\u001B[0m \u001B[1;36m1\u001B[0m\u001B[1;33m)\u001B[0m\u001B[1;33m,\u001B[0m \u001B[1;34m\"iso-8859-1\"\u001B[0m\u001B[1;33m)\u001B[0m\u001B[1;33m\u001B[0m\u001B[1;33m\u001B[0m\u001B[0m\n\u001B[0m\u001B[0;32m    269\u001B[0m         \u001B[1;32mif\u001B[0m \u001B[0mlen\u001B[0m\u001B[1;33m(\u001B[0m\u001B[0mline\u001B[0m\u001B[1;33m)\u001B[0m \u001B[1;33m>\u001B[0m \u001B[0m_MAXLINE\u001B[0m\u001B[1;33m:\u001B[0m\u001B[1;33m\u001B[0m\u001B[1;33m\u001B[0m\u001B[0m\n",
      "\u001B[1;32m~\\anaconda3\\envs\\bot\\lib\\socket.py\u001B[0m in \u001B[0;36mreadinto\u001B[1;34m(self, b)\u001B[0m\n\u001B[0;32m    668\u001B[0m             \u001B[1;32mtry\u001B[0m\u001B[1;33m:\u001B[0m\u001B[1;33m\u001B[0m\u001B[1;33m\u001B[0m\u001B[0m\n\u001B[1;32m--> 669\u001B[1;33m                 \u001B[1;32mreturn\u001B[0m \u001B[0mself\u001B[0m\u001B[1;33m.\u001B[0m\u001B[0m_sock\u001B[0m\u001B[1;33m.\u001B[0m\u001B[0mrecv_into\u001B[0m\u001B[1;33m(\u001B[0m\u001B[0mb\u001B[0m\u001B[1;33m)\u001B[0m\u001B[1;33m\u001B[0m\u001B[1;33m\u001B[0m\u001B[0m\n\u001B[0m\u001B[0;32m    670\u001B[0m             \u001B[1;32mexcept\u001B[0m \u001B[0mtimeout\u001B[0m\u001B[1;33m:\u001B[0m\u001B[1;33m\u001B[0m\u001B[1;33m\u001B[0m\u001B[0m\n",
      "\u001B[1;31mConnectionResetError\u001B[0m: [WinError 10054] Удаленный хост принудительно разорвал существующее подключение",
      "\nDuring handling of the above exception, another exception occurred:\n",
      "\u001B[1;31mProtocolError\u001B[0m                             Traceback (most recent call last)",
      "\u001B[1;32m~\\anaconda3\\envs\\bot\\lib\\site-packages\\requests\\adapters.py\u001B[0m in \u001B[0;36msend\u001B[1;34m(self, request, stream, timeout, verify, cert, proxies)\u001B[0m\n\u001B[0;32m    438\u001B[0m             \u001B[1;32mif\u001B[0m \u001B[1;32mnot\u001B[0m \u001B[0mchunked\u001B[0m\u001B[1;33m:\u001B[0m\u001B[1;33m\u001B[0m\u001B[1;33m\u001B[0m\u001B[0m\n\u001B[1;32m--> 439\u001B[1;33m                 resp = conn.urlopen(\n\u001B[0m\u001B[0;32m    440\u001B[0m                     \u001B[0mmethod\u001B[0m\u001B[1;33m=\u001B[0m\u001B[0mrequest\u001B[0m\u001B[1;33m.\u001B[0m\u001B[0mmethod\u001B[0m\u001B[1;33m,\u001B[0m\u001B[1;33m\u001B[0m\u001B[1;33m\u001B[0m\u001B[0m\n",
      "\u001B[1;32m~\\anaconda3\\envs\\bot\\lib\\site-packages\\urllib3\\connectionpool.py\u001B[0m in \u001B[0;36murlopen\u001B[1;34m(self, method, url, body, headers, retries, redirect, assert_same_host, timeout, pool_timeout, release_conn, chunked, body_pos, **response_kw)\u001B[0m\n\u001B[0;32m    754\u001B[0m \u001B[1;33m\u001B[0m\u001B[0m\n\u001B[1;32m--> 755\u001B[1;33m             retries = retries.increment(\n\u001B[0m\u001B[0;32m    756\u001B[0m                 \u001B[0mmethod\u001B[0m\u001B[1;33m,\u001B[0m \u001B[0murl\u001B[0m\u001B[1;33m,\u001B[0m \u001B[0merror\u001B[0m\u001B[1;33m=\u001B[0m\u001B[0me\u001B[0m\u001B[1;33m,\u001B[0m \u001B[0m_pool\u001B[0m\u001B[1;33m=\u001B[0m\u001B[0mself\u001B[0m\u001B[1;33m,\u001B[0m \u001B[0m_stacktrace\u001B[0m\u001B[1;33m=\u001B[0m\u001B[0msys\u001B[0m\u001B[1;33m.\u001B[0m\u001B[0mexc_info\u001B[0m\u001B[1;33m(\u001B[0m\u001B[1;33m)\u001B[0m\u001B[1;33m[\u001B[0m\u001B[1;36m2\u001B[0m\u001B[1;33m]\u001B[0m\u001B[1;33m\u001B[0m\u001B[1;33m\u001B[0m\u001B[0m\n",
      "\u001B[1;32m~\\anaconda3\\envs\\bot\\lib\\site-packages\\urllib3\\util\\retry.py\u001B[0m in \u001B[0;36mincrement\u001B[1;34m(self, method, url, response, error, _pool, _stacktrace)\u001B[0m\n\u001B[0;32m    530\u001B[0m             \u001B[1;32mif\u001B[0m \u001B[0mread\u001B[0m \u001B[1;32mis\u001B[0m \u001B[1;32mFalse\u001B[0m \u001B[1;32mor\u001B[0m \u001B[1;32mnot\u001B[0m \u001B[0mself\u001B[0m\u001B[1;33m.\u001B[0m\u001B[0m_is_method_retryable\u001B[0m\u001B[1;33m(\u001B[0m\u001B[0mmethod\u001B[0m\u001B[1;33m)\u001B[0m\u001B[1;33m:\u001B[0m\u001B[1;33m\u001B[0m\u001B[1;33m\u001B[0m\u001B[0m\n\u001B[1;32m--> 531\u001B[1;33m                 \u001B[1;32mraise\u001B[0m \u001B[0msix\u001B[0m\u001B[1;33m.\u001B[0m\u001B[0mreraise\u001B[0m\u001B[1;33m(\u001B[0m\u001B[0mtype\u001B[0m\u001B[1;33m(\u001B[0m\u001B[0merror\u001B[0m\u001B[1;33m)\u001B[0m\u001B[1;33m,\u001B[0m \u001B[0merror\u001B[0m\u001B[1;33m,\u001B[0m \u001B[0m_stacktrace\u001B[0m\u001B[1;33m)\u001B[0m\u001B[1;33m\u001B[0m\u001B[1;33m\u001B[0m\u001B[0m\n\u001B[0m\u001B[0;32m    532\u001B[0m             \u001B[1;32melif\u001B[0m \u001B[0mread\u001B[0m \u001B[1;32mis\u001B[0m \u001B[1;32mnot\u001B[0m \u001B[1;32mNone\u001B[0m\u001B[1;33m:\u001B[0m\u001B[1;33m\u001B[0m\u001B[1;33m\u001B[0m\u001B[0m\n",
      "\u001B[1;32m~\\anaconda3\\envs\\bot\\lib\\site-packages\\urllib3\\packages\\six.py\u001B[0m in \u001B[0;36mreraise\u001B[1;34m(tp, value, tb)\u001B[0m\n\u001B[0;32m    733\u001B[0m             \u001B[1;32mif\u001B[0m \u001B[0mvalue\u001B[0m\u001B[1;33m.\u001B[0m\u001B[0m__traceback__\u001B[0m \u001B[1;32mis\u001B[0m \u001B[1;32mnot\u001B[0m \u001B[0mtb\u001B[0m\u001B[1;33m:\u001B[0m\u001B[1;33m\u001B[0m\u001B[1;33m\u001B[0m\u001B[0m\n\u001B[1;32m--> 734\u001B[1;33m                 \u001B[1;32mraise\u001B[0m \u001B[0mvalue\u001B[0m\u001B[1;33m.\u001B[0m\u001B[0mwith_traceback\u001B[0m\u001B[1;33m(\u001B[0m\u001B[0mtb\u001B[0m\u001B[1;33m)\u001B[0m\u001B[1;33m\u001B[0m\u001B[1;33m\u001B[0m\u001B[0m\n\u001B[0m\u001B[0;32m    735\u001B[0m             \u001B[1;32mraise\u001B[0m \u001B[0mvalue\u001B[0m\u001B[1;33m\u001B[0m\u001B[1;33m\u001B[0m\u001B[0m\n",
      "\u001B[1;32m~\\anaconda3\\envs\\bot\\lib\\site-packages\\urllib3\\connectionpool.py\u001B[0m in \u001B[0;36murlopen\u001B[1;34m(self, method, url, body, headers, retries, redirect, assert_same_host, timeout, pool_timeout, release_conn, chunked, body_pos, **response_kw)\u001B[0m\n\u001B[0;32m    698\u001B[0m             \u001B[1;31m# Make the request on the httplib connection object.\u001B[0m\u001B[1;33m\u001B[0m\u001B[1;33m\u001B[0m\u001B[1;33m\u001B[0m\u001B[0m\n\u001B[1;32m--> 699\u001B[1;33m             httplib_response = self._make_request(\n\u001B[0m\u001B[0;32m    700\u001B[0m                 \u001B[0mconn\u001B[0m\u001B[1;33m,\u001B[0m\u001B[1;33m\u001B[0m\u001B[1;33m\u001B[0m\u001B[0m\n",
      "\u001B[1;32m~\\anaconda3\\envs\\bot\\lib\\site-packages\\urllib3\\connectionpool.py\u001B[0m in \u001B[0;36m_make_request\u001B[1;34m(self, conn, method, url, timeout, chunked, **httplib_request_kw)\u001B[0m\n\u001B[0;32m    444\u001B[0m                     \u001B[1;31m# Otherwise it looks like a bug in the code.\u001B[0m\u001B[1;33m\u001B[0m\u001B[1;33m\u001B[0m\u001B[1;33m\u001B[0m\u001B[0m\n\u001B[1;32m--> 445\u001B[1;33m                     \u001B[0msix\u001B[0m\u001B[1;33m.\u001B[0m\u001B[0mraise_from\u001B[0m\u001B[1;33m(\u001B[0m\u001B[0me\u001B[0m\u001B[1;33m,\u001B[0m \u001B[1;32mNone\u001B[0m\u001B[1;33m)\u001B[0m\u001B[1;33m\u001B[0m\u001B[1;33m\u001B[0m\u001B[0m\n\u001B[0m\u001B[0;32m    446\u001B[0m         \u001B[1;32mexcept\u001B[0m \u001B[1;33m(\u001B[0m\u001B[0mSocketTimeout\u001B[0m\u001B[1;33m,\u001B[0m \u001B[0mBaseSSLError\u001B[0m\u001B[1;33m,\u001B[0m \u001B[0mSocketError\u001B[0m\u001B[1;33m)\u001B[0m \u001B[1;32mas\u001B[0m \u001B[0me\u001B[0m\u001B[1;33m:\u001B[0m\u001B[1;33m\u001B[0m\u001B[1;33m\u001B[0m\u001B[0m\n",
      "\u001B[1;32m~\\anaconda3\\envs\\bot\\lib\\site-packages\\urllib3\\packages\\six.py\u001B[0m in \u001B[0;36mraise_from\u001B[1;34m(value, from_value)\u001B[0m\n",
      "\u001B[1;32m~\\anaconda3\\envs\\bot\\lib\\site-packages\\urllib3\\connectionpool.py\u001B[0m in \u001B[0;36m_make_request\u001B[1;34m(self, conn, method, url, timeout, chunked, **httplib_request_kw)\u001B[0m\n\u001B[0;32m    439\u001B[0m                 \u001B[1;32mtry\u001B[0m\u001B[1;33m:\u001B[0m\u001B[1;33m\u001B[0m\u001B[1;33m\u001B[0m\u001B[0m\n\u001B[1;32m--> 440\u001B[1;33m                     \u001B[0mhttplib_response\u001B[0m \u001B[1;33m=\u001B[0m \u001B[0mconn\u001B[0m\u001B[1;33m.\u001B[0m\u001B[0mgetresponse\u001B[0m\u001B[1;33m(\u001B[0m\u001B[1;33m)\u001B[0m\u001B[1;33m\u001B[0m\u001B[1;33m\u001B[0m\u001B[0m\n\u001B[0m\u001B[0;32m    441\u001B[0m                 \u001B[1;32mexcept\u001B[0m \u001B[0mBaseException\u001B[0m \u001B[1;32mas\u001B[0m \u001B[0me\u001B[0m\u001B[1;33m:\u001B[0m\u001B[1;33m\u001B[0m\u001B[1;33m\u001B[0m\u001B[0m\n",
      "\u001B[1;32m~\\anaconda3\\envs\\bot\\lib\\http\\client.py\u001B[0m in \u001B[0;36mgetresponse\u001B[1;34m(self)\u001B[0m\n\u001B[0;32m   1346\u001B[0m             \u001B[1;32mtry\u001B[0m\u001B[1;33m:\u001B[0m\u001B[1;33m\u001B[0m\u001B[1;33m\u001B[0m\u001B[0m\n\u001B[1;32m-> 1347\u001B[1;33m                 \u001B[0mresponse\u001B[0m\u001B[1;33m.\u001B[0m\u001B[0mbegin\u001B[0m\u001B[1;33m(\u001B[0m\u001B[1;33m)\u001B[0m\u001B[1;33m\u001B[0m\u001B[1;33m\u001B[0m\u001B[0m\n\u001B[0m\u001B[0;32m   1348\u001B[0m             \u001B[1;32mexcept\u001B[0m \u001B[0mConnectionError\u001B[0m\u001B[1;33m:\u001B[0m\u001B[1;33m\u001B[0m\u001B[1;33m\u001B[0m\u001B[0m\n",
      "\u001B[1;32m~\\anaconda3\\envs\\bot\\lib\\http\\client.py\u001B[0m in \u001B[0;36mbegin\u001B[1;34m(self)\u001B[0m\n\u001B[0;32m    306\u001B[0m         \u001B[1;32mwhile\u001B[0m \u001B[1;32mTrue\u001B[0m\u001B[1;33m:\u001B[0m\u001B[1;33m\u001B[0m\u001B[1;33m\u001B[0m\u001B[0m\n\u001B[1;32m--> 307\u001B[1;33m             \u001B[0mversion\u001B[0m\u001B[1;33m,\u001B[0m \u001B[0mstatus\u001B[0m\u001B[1;33m,\u001B[0m \u001B[0mreason\u001B[0m \u001B[1;33m=\u001B[0m \u001B[0mself\u001B[0m\u001B[1;33m.\u001B[0m\u001B[0m_read_status\u001B[0m\u001B[1;33m(\u001B[0m\u001B[1;33m)\u001B[0m\u001B[1;33m\u001B[0m\u001B[1;33m\u001B[0m\u001B[0m\n\u001B[0m\u001B[0;32m    308\u001B[0m             \u001B[1;32mif\u001B[0m \u001B[0mstatus\u001B[0m \u001B[1;33m!=\u001B[0m \u001B[0mCONTINUE\u001B[0m\u001B[1;33m:\u001B[0m\u001B[1;33m\u001B[0m\u001B[1;33m\u001B[0m\u001B[0m\n",
      "\u001B[1;32m~\\anaconda3\\envs\\bot\\lib\\http\\client.py\u001B[0m in \u001B[0;36m_read_status\u001B[1;34m(self)\u001B[0m\n\u001B[0;32m    267\u001B[0m     \u001B[1;32mdef\u001B[0m \u001B[0m_read_status\u001B[0m\u001B[1;33m(\u001B[0m\u001B[0mself\u001B[0m\u001B[1;33m)\u001B[0m\u001B[1;33m:\u001B[0m\u001B[1;33m\u001B[0m\u001B[1;33m\u001B[0m\u001B[0m\n\u001B[1;32m--> 268\u001B[1;33m         \u001B[0mline\u001B[0m \u001B[1;33m=\u001B[0m \u001B[0mstr\u001B[0m\u001B[1;33m(\u001B[0m\u001B[0mself\u001B[0m\u001B[1;33m.\u001B[0m\u001B[0mfp\u001B[0m\u001B[1;33m.\u001B[0m\u001B[0mreadline\u001B[0m\u001B[1;33m(\u001B[0m\u001B[0m_MAXLINE\u001B[0m \u001B[1;33m+\u001B[0m \u001B[1;36m1\u001B[0m\u001B[1;33m)\u001B[0m\u001B[1;33m,\u001B[0m \u001B[1;34m\"iso-8859-1\"\u001B[0m\u001B[1;33m)\u001B[0m\u001B[1;33m\u001B[0m\u001B[1;33m\u001B[0m\u001B[0m\n\u001B[0m\u001B[0;32m    269\u001B[0m         \u001B[1;32mif\u001B[0m \u001B[0mlen\u001B[0m\u001B[1;33m(\u001B[0m\u001B[0mline\u001B[0m\u001B[1;33m)\u001B[0m \u001B[1;33m>\u001B[0m \u001B[0m_MAXLINE\u001B[0m\u001B[1;33m:\u001B[0m\u001B[1;33m\u001B[0m\u001B[1;33m\u001B[0m\u001B[0m\n",
      "\u001B[1;32m~\\anaconda3\\envs\\bot\\lib\\socket.py\u001B[0m in \u001B[0;36mreadinto\u001B[1;34m(self, b)\u001B[0m\n\u001B[0;32m    668\u001B[0m             \u001B[1;32mtry\u001B[0m\u001B[1;33m:\u001B[0m\u001B[1;33m\u001B[0m\u001B[1;33m\u001B[0m\u001B[0m\n\u001B[1;32m--> 669\u001B[1;33m                 \u001B[1;32mreturn\u001B[0m \u001B[0mself\u001B[0m\u001B[1;33m.\u001B[0m\u001B[0m_sock\u001B[0m\u001B[1;33m.\u001B[0m\u001B[0mrecv_into\u001B[0m\u001B[1;33m(\u001B[0m\u001B[0mb\u001B[0m\u001B[1;33m)\u001B[0m\u001B[1;33m\u001B[0m\u001B[1;33m\u001B[0m\u001B[0m\n\u001B[0m\u001B[0;32m    670\u001B[0m             \u001B[1;32mexcept\u001B[0m \u001B[0mtimeout\u001B[0m\u001B[1;33m:\u001B[0m\u001B[1;33m\u001B[0m\u001B[1;33m\u001B[0m\u001B[0m\n",
      "\u001B[1;31mProtocolError\u001B[0m: ('Connection aborted.', ConnectionResetError(10054, 'Удаленный хост принудительно разорвал существующее подключение', None, 10054, None))",
      "\nDuring handling of the above exception, another exception occurred:\n",
      "\u001B[1;31mConnectionError\u001B[0m                           Traceback (most recent call last)",
      "\u001B[1;32m<ipython-input-15-a0ed643df549>\u001B[0m in \u001B[0;36m<module>\u001B[1;34m\u001B[0m\n\u001B[0;32m     19\u001B[0m \u001B[0mrequests\u001B[0m\u001B[1;33m.\u001B[0m\u001B[0mget\u001B[0m\u001B[1;33m(\u001B[0m\u001B[1;34m'http://127.0.0.1:5000/api/init'\u001B[0m\u001B[1;33m)\u001B[0m\u001B[1;33m\u001B[0m\u001B[1;33m\u001B[0m\u001B[0m\n\u001B[0;32m     20\u001B[0m \u001B[1;33m\u001B[0m\u001B[0m\n\u001B[1;32m---> 21\u001B[1;33m \u001B[0mres1\u001B[0m \u001B[1;33m=\u001B[0m \u001B[0mrequests\u001B[0m\u001B[1;33m.\u001B[0m\u001B[0mpost\u001B[0m\u001B[1;33m(\u001B[0m\u001B[1;34m'http://127.0.0.1:5000/api/easyrecommend'\u001B[0m\u001B[1;33m,\u001B[0m \u001B[0mjson\u001B[0m\u001B[1;33m=\u001B[0m\u001B[0measy_recommend_to_send\u001B[0m\u001B[1;33m)\u001B[0m\u001B[1;33m\u001B[0m\u001B[1;33m\u001B[0m\u001B[0m\n\u001B[0m\u001B[0;32m     22\u001B[0m \u001B[1;31m# res1 = requests.post('http://127.0.0.1:62180/easyrecommend', json=json.dumps(easy_recommend_to_send))\u001B[0m\u001B[1;33m\u001B[0m\u001B[1;33m\u001B[0m\u001B[1;33m\u001B[0m\u001B[0m\n\u001B[0;32m     23\u001B[0m \u001B[0mprint\u001B[0m\u001B[1;33m(\u001B[0m\u001B[0mres1\u001B[0m\u001B[1;33m.\u001B[0m\u001B[0mjson\u001B[0m\u001B[1;33m(\u001B[0m\u001B[1;33m)\u001B[0m\u001B[1;33m)\u001B[0m\u001B[1;33m\u001B[0m\u001B[1;33m\u001B[0m\u001B[0m\n",
      "\u001B[1;32m~\\anaconda3\\envs\\bot\\lib\\site-packages\\requests\\api.py\u001B[0m in \u001B[0;36mpost\u001B[1;34m(url, data, json, **kwargs)\u001B[0m\n\u001B[0;32m    115\u001B[0m     \"\"\"\n\u001B[0;32m    116\u001B[0m \u001B[1;33m\u001B[0m\u001B[0m\n\u001B[1;32m--> 117\u001B[1;33m     \u001B[1;32mreturn\u001B[0m \u001B[0mrequest\u001B[0m\u001B[1;33m(\u001B[0m\u001B[1;34m'post'\u001B[0m\u001B[1;33m,\u001B[0m \u001B[0murl\u001B[0m\u001B[1;33m,\u001B[0m \u001B[0mdata\u001B[0m\u001B[1;33m=\u001B[0m\u001B[0mdata\u001B[0m\u001B[1;33m,\u001B[0m \u001B[0mjson\u001B[0m\u001B[1;33m=\u001B[0m\u001B[0mjson\u001B[0m\u001B[1;33m,\u001B[0m \u001B[1;33m**\u001B[0m\u001B[0mkwargs\u001B[0m\u001B[1;33m)\u001B[0m\u001B[1;33m\u001B[0m\u001B[1;33m\u001B[0m\u001B[0m\n\u001B[0m\u001B[0;32m    118\u001B[0m \u001B[1;33m\u001B[0m\u001B[0m\n\u001B[0;32m    119\u001B[0m \u001B[1;33m\u001B[0m\u001B[0m\n",
      "\u001B[1;32m~\\anaconda3\\envs\\bot\\lib\\site-packages\\requests\\api.py\u001B[0m in \u001B[0;36mrequest\u001B[1;34m(method, url, **kwargs)\u001B[0m\n\u001B[0;32m     59\u001B[0m     \u001B[1;31m# cases, and look like a memory leak in others.\u001B[0m\u001B[1;33m\u001B[0m\u001B[1;33m\u001B[0m\u001B[1;33m\u001B[0m\u001B[0m\n\u001B[0;32m     60\u001B[0m     \u001B[1;32mwith\u001B[0m \u001B[0msessions\u001B[0m\u001B[1;33m.\u001B[0m\u001B[0mSession\u001B[0m\u001B[1;33m(\u001B[0m\u001B[1;33m)\u001B[0m \u001B[1;32mas\u001B[0m \u001B[0msession\u001B[0m\u001B[1;33m:\u001B[0m\u001B[1;33m\u001B[0m\u001B[1;33m\u001B[0m\u001B[0m\n\u001B[1;32m---> 61\u001B[1;33m         \u001B[1;32mreturn\u001B[0m \u001B[0msession\u001B[0m\u001B[1;33m.\u001B[0m\u001B[0mrequest\u001B[0m\u001B[1;33m(\u001B[0m\u001B[0mmethod\u001B[0m\u001B[1;33m=\u001B[0m\u001B[0mmethod\u001B[0m\u001B[1;33m,\u001B[0m \u001B[0murl\u001B[0m\u001B[1;33m=\u001B[0m\u001B[0murl\u001B[0m\u001B[1;33m,\u001B[0m \u001B[1;33m**\u001B[0m\u001B[0mkwargs\u001B[0m\u001B[1;33m)\u001B[0m\u001B[1;33m\u001B[0m\u001B[1;33m\u001B[0m\u001B[0m\n\u001B[0m\u001B[0;32m     62\u001B[0m \u001B[1;33m\u001B[0m\u001B[0m\n\u001B[0;32m     63\u001B[0m \u001B[1;33m\u001B[0m\u001B[0m\n",
      "\u001B[1;32m~\\anaconda3\\envs\\bot\\lib\\site-packages\\requests\\sessions.py\u001B[0m in \u001B[0;36mrequest\u001B[1;34m(self, method, url, params, data, headers, cookies, files, auth, timeout, allow_redirects, proxies, hooks, stream, verify, cert, json)\u001B[0m\n\u001B[0;32m    540\u001B[0m         }\n\u001B[0;32m    541\u001B[0m         \u001B[0msend_kwargs\u001B[0m\u001B[1;33m.\u001B[0m\u001B[0mupdate\u001B[0m\u001B[1;33m(\u001B[0m\u001B[0msettings\u001B[0m\u001B[1;33m)\u001B[0m\u001B[1;33m\u001B[0m\u001B[1;33m\u001B[0m\u001B[0m\n\u001B[1;32m--> 542\u001B[1;33m         \u001B[0mresp\u001B[0m \u001B[1;33m=\u001B[0m \u001B[0mself\u001B[0m\u001B[1;33m.\u001B[0m\u001B[0msend\u001B[0m\u001B[1;33m(\u001B[0m\u001B[0mprep\u001B[0m\u001B[1;33m,\u001B[0m \u001B[1;33m**\u001B[0m\u001B[0msend_kwargs\u001B[0m\u001B[1;33m)\u001B[0m\u001B[1;33m\u001B[0m\u001B[1;33m\u001B[0m\u001B[0m\n\u001B[0m\u001B[0;32m    543\u001B[0m \u001B[1;33m\u001B[0m\u001B[0m\n\u001B[0;32m    544\u001B[0m         \u001B[1;32mreturn\u001B[0m \u001B[0mresp\u001B[0m\u001B[1;33m\u001B[0m\u001B[1;33m\u001B[0m\u001B[0m\n",
      "\u001B[1;32m~\\anaconda3\\envs\\bot\\lib\\site-packages\\requests\\sessions.py\u001B[0m in \u001B[0;36msend\u001B[1;34m(self, request, **kwargs)\u001B[0m\n\u001B[0;32m    653\u001B[0m \u001B[1;33m\u001B[0m\u001B[0m\n\u001B[0;32m    654\u001B[0m         \u001B[1;31m# Send the request\u001B[0m\u001B[1;33m\u001B[0m\u001B[1;33m\u001B[0m\u001B[1;33m\u001B[0m\u001B[0m\n\u001B[1;32m--> 655\u001B[1;33m         \u001B[0mr\u001B[0m \u001B[1;33m=\u001B[0m \u001B[0madapter\u001B[0m\u001B[1;33m.\u001B[0m\u001B[0msend\u001B[0m\u001B[1;33m(\u001B[0m\u001B[0mrequest\u001B[0m\u001B[1;33m,\u001B[0m \u001B[1;33m**\u001B[0m\u001B[0mkwargs\u001B[0m\u001B[1;33m)\u001B[0m\u001B[1;33m\u001B[0m\u001B[1;33m\u001B[0m\u001B[0m\n\u001B[0m\u001B[0;32m    656\u001B[0m \u001B[1;33m\u001B[0m\u001B[0m\n\u001B[0;32m    657\u001B[0m         \u001B[1;31m# Total elapsed time of the request (approximately)\u001B[0m\u001B[1;33m\u001B[0m\u001B[1;33m\u001B[0m\u001B[1;33m\u001B[0m\u001B[0m\n",
      "\u001B[1;32m~\\anaconda3\\envs\\bot\\lib\\site-packages\\requests\\adapters.py\u001B[0m in \u001B[0;36msend\u001B[1;34m(self, request, stream, timeout, verify, cert, proxies)\u001B[0m\n\u001B[0;32m    496\u001B[0m \u001B[1;33m\u001B[0m\u001B[0m\n\u001B[0;32m    497\u001B[0m         \u001B[1;32mexcept\u001B[0m \u001B[1;33m(\u001B[0m\u001B[0mProtocolError\u001B[0m\u001B[1;33m,\u001B[0m \u001B[0msocket\u001B[0m\u001B[1;33m.\u001B[0m\u001B[0merror\u001B[0m\u001B[1;33m)\u001B[0m \u001B[1;32mas\u001B[0m \u001B[0merr\u001B[0m\u001B[1;33m:\u001B[0m\u001B[1;33m\u001B[0m\u001B[1;33m\u001B[0m\u001B[0m\n\u001B[1;32m--> 498\u001B[1;33m             \u001B[1;32mraise\u001B[0m \u001B[0mConnectionError\u001B[0m\u001B[1;33m(\u001B[0m\u001B[0merr\u001B[0m\u001B[1;33m,\u001B[0m \u001B[0mrequest\u001B[0m\u001B[1;33m=\u001B[0m\u001B[0mrequest\u001B[0m\u001B[1;33m)\u001B[0m\u001B[1;33m\u001B[0m\u001B[1;33m\u001B[0m\u001B[0m\n\u001B[0m\u001B[0;32m    499\u001B[0m \u001B[1;33m\u001B[0m\u001B[0m\n\u001B[0;32m    500\u001B[0m         \u001B[1;32mexcept\u001B[0m \u001B[0mMaxRetryError\u001B[0m \u001B[1;32mas\u001B[0m \u001B[0me\u001B[0m\u001B[1;33m:\u001B[0m\u001B[1;33m\u001B[0m\u001B[1;33m\u001B[0m\u001B[0m\n",
      "\u001B[1;31mConnectionError\u001B[0m: ('Connection aborted.', ConnectionResetError(10054, 'Удаленный хост принудительно разорвал существующее подключение', None, 10054, None))"
     ]
    }
   ],
   "source": [
    "# 'Сервис',\n",
    "# 'Дата основания',\n",
    "# \"Фильтр 'Рынок' для Инновационных компаний\",\n",
    "# \"Фильтр 'Технологии' для Инновационных компаний\",\n",
    "# 'Бизнес-модель для Инновационных компаний'\n",
    "\n",
    "easy_recommend_to_send = {\n",
    "    \"start_up\":\n",
    "        {\n",
    "            \"b_model\":[\"B2C\",\"B2B2C\",\"P2P\",\"B2B\"],\n",
    "            \"found_date\":[\"2021-07-28\"],\n",
    "            \"market_type\":[\"Healthcare\",\"IndustrialTech\"],\n",
    "            \"service\":[\"Протестировать продукт\"],\n",
    "            \"tech_type\":[\"Биотехнологии\"],\n",
    "            \"evo_stage\":[\"Расширение\"]\n",
    "        }\n",
    "}\n",
    "\n",
    "requests.get('http://127.0.0.1:5000/api/init')\n",
    "\n",
    "res1 = requests.post('http://127.0.0.1:5000/api/easyrecommend', json=easy_recommend_to_send)\n",
    "# res1 = requests.post('http://127.0.0.1:62180/easyrecommend', json=json.dumps(easy_recommend_to_send))\n",
    "print(res1.json())"
   ],
   "metadata": {
    "collapsed": false,
    "pycharm": {
     "name": "#%%\n"
    }
   }
  },
  {
   "cell_type": "code",
   "execution_count": 16,
   "outputs": [
    {
     "name": "stdout",
     "output_type": "stream",
     "text": [
      "[{'name': 'Бизнес-инкубатор МФТИ', 'rating': 1.0, 'type': 'business_incubs_services_df'}, {'name': 'Акселератор MTS StartUp Hub ', 'rating': 0.3890867675615267, 'type': 'accelerator_services_df'}]\n"
     ]
    }
   ],
   "source": [
    "# 'Сервис',\n",
    "# 'Дата основания',\n",
    "# \"Фильтр 'Рынок' для Инновационных компаний\",\n",
    "# \"Фильтр 'Технологии' для Инновационных компаний\",\n",
    "# 'Бизнес-модель для Инновационных компаний'\n",
    "\n",
    "easy_recommend_to_send = {\n",
    "    \"start_up\":\n",
    "        {\n",
    "            \"b_model\":[\"B2G\"],\n",
    "            \"found_date\":[\"2021-07-07\"],\n",
    "            \"market_type\":[\"FashionTech\",\"Advertising & Marketing\",\"Gaming\"],\n",
    "            \"service\":[\"Найти помещение в аренду\"],\n",
    "            \"tech_type\":[\"Компьютерное зрение\",\"Биотехнологии\",\"Новые и портативные источники энергии\"],\n",
    "            \"evo_stage\":[\"Ранний рост\"]\n",
    "        }\n",
    "}\n",
    "\n",
    "requests.get('https://testdragonsflask.herokuapp.com/api/init')\n",
    "\n",
    "res_heroku = requests.post('https://testdragonsflask.herokuapp.com/api/easyrecommend', json=easy_recommend_to_send)\n",
    "print(res_heroku.json())"
   ],
   "metadata": {
    "collapsed": false,
    "pycharm": {
     "name": "#%%\n"
    }
   }
  },
  {
   "cell_type": "code",
   "execution_count": 2,
   "outputs": [],
   "source": [
    "companies_dict = pd.read_excel('D:\\heroku_test\\Companies.xlsx', sheet_name=None)\n",
    "deals_dict = pd.read_excel('D:\\heroku_test\\Deals.xlsx', sheet_name=None)\n",
    "services_dict = pd.read_excel('D:\\heroku_test\\Services.xlsx', sheet_name=None)"
   ],
   "metadata": {
    "collapsed": false,
    "pycharm": {
     "name": "#%%\n"
    }
   }
  },
  {
   "cell_type": "code",
   "execution_count": 3,
   "outputs": [],
   "source": [
    "engi_centres_services_df = services_dict['Список инжиниринговых центров'][['Название объекта', 'Рынок', 'Технологии', 'Сервисы']]"
   ],
   "metadata": {
    "collapsed": false,
    "pycharm": {
     "name": "#%%\n"
    }
   }
  },
  {
   "cell_type": "code",
   "execution_count": 4,
   "outputs": [],
   "source": [
    "engi_centres_services_df.to_csv('engi_centres_services.csv')"
   ],
   "metadata": {
    "collapsed": false,
    "pycharm": {
     "name": "#%%\n"
    }
   }
  },
  {
   "cell_type": "code",
   "execution_count": 27,
   "outputs": [],
   "source": [
    "context = pd.read_csv('train_data.csv')"
   ],
   "metadata": {
    "collapsed": false,
    "pycharm": {
     "name": "#%%\n"
    }
   }
  },
  {
   "cell_type": "code",
   "execution_count": 28,
   "outputs": [
    {
     "data": {
      "text/plain": "['Unnamed: 0',\n 'name',\n 'nalog_id',\n 'project_name',\n 'service',\n 'is_funded',\n 'msp',\n 'msk_inno',\n 'skolk_inno',\n 'nav_stat',\n 'inno_comp',\n 'start_up',\n 'B2B2C',\n 'B2G',\n 'B2C',\n 'B2B',\n 'NoneType',\n 'P2P',\n 'Энергетика',\n 'Спорт',\n 'HealthTech',\n 'Безопасность',\n 'Медиа и коммуникации',\n 'Недвижимость и строительство',\n 'Консалтинг',\n 'ИТ, разработка ПО',\n 'Услуги для населения',\n 'HRTech',\n 'Промышленность и Индустрия 4.0',\n 'Космос',\n 'EdTech',\n 'Транспорт и логистика',\n 'Мода',\n 'Игры',\n 'Экология',\n 'FoodTech',\n 'Телекоммуникации',\n 'Развлечения',\n 'BioTech',\n 'Туризм',\n 'Маркетинг и реклама',\n 'FinTech',\n 'RetailTech и E-commerce',\n 'Страхование',\n 'Transport & Logistics',\n 'E-commerce',\n 'Consumer Goods & Services',\n 'SportTech',\n 'Business Software',\n 'SafetyTech',\n 'Travel',\n 'SpaceTech',\n 'RetailTech',\n 'LegalTech',\n 'FashionTech',\n 'IndustrialTech',\n 'Advertising & Marketing',\n 'Gaming',\n 'CleanTech',\n 'Healthcare',\n 'Entertainment',\n 'InsuranceTech',\n 'AgroTech',\n 'PropTech',\n 'Telecom',\n 'Мedia & Communication',\n 'Cybersecurity',\n 'Нейротехнологии',\n 'Беспилотники',\n 'Блокчейн',\n 'Компьютерное зрение',\n 'AR/VR',\n 'Зеленые технологии',\n 'Биометрия',\n '3D моделирование',\n 'Новые и портативные источники энергии',\n 'Аддитивные технологии',\n 'Нанотехнологии',\n 'Биотехнологии',\n 'Искусственный интеллект и машинное обучение',\n 'Новые материалы',\n 'Робототехника',\n 'Интернет вещей',\n 'ЮЛ Малое',\n 'ЮЛ Среднее',\n 'ИП Микро',\n 'ИП Малое',\n 'ЮЛ Микро',\n 'Технопарк \"Строгино\"',\n 'Технопарк \"Физтехпарк\"',\n 'Технопарк \"ИТЭЛМА\"',\n 'Технопарк \"Курчатовский институт\"',\n 'Технопарк \"Центр хайтек инноваций \"РИКОР\"',\n 'Технопарк \"Нагатино\"',\n 'Технопарк \"Радиофизика\"',\n 'Технопарк \"Связь инжиниринг\"',\n 'Технопарк \"Фотоника\"',\n 'Технопарк \"Мосгормаш\"',\n 'Технопарк \"Отрадное\"',\n 'Технопарк \"НИИ Точных приборов\"',\n 'Технопарк \"Водный стадион\"',\n 'Технопарк \"ЦНИИТМАШ\"',\n 'Технопарк \"МЗТА\"',\n 'Технопарк \"Научный парк МГУ\"',\n 'Технополис \"Москва\"',\n 'Технопарк \"Сколково\"',\n 'Технопарк \"НИИССУ\"',\n 'Технопарк \"ВТИ\"',\n 'Технопарк \"ЭЛМА\"',\n 'Технопарк \"Полюс\"',\n 'Технопарк \"Сапфир\"',\n 'Технопарк \"Слава\"',\n 'Наименование стартапа',\n 'ИНН',\n 'Стадия стартапа',\n 'Сфера стартапа',\n 'Технология',\n 'Пользователь',\n 'Частный фонд',\n 'Частный фонд_сумма, долл',\n 'Государственный фонд',\n 'Государственный фонд_сумма, долл',\n 'Акселератор',\n 'Акселератор_сумма, долл',\n 'Корпоративный инвестор',\n 'Корпоративный инвестор_сумма, долл',\n 'Корпоративный фонд',\n 'Корпоративный фонд_сумма, долл']"
     },
     "execution_count": 28,
     "metadata": {},
     "output_type": "execute_result"
    }
   ],
   "source": [
    "context.columns.tolist()"
   ],
   "metadata": {
    "collapsed": false,
    "pycharm": {
     "name": "#%%\n"
    }
   }
  },
  {
   "cell_type": "code",
   "execution_count": 32,
   "outputs": [],
   "source": [
    "train_context = context.drop(\n",
    "    [\n",
    "        'Unnamed: 0',\n",
    "        'is_funded',\n",
    "        'name',\n",
    "        'nalog_id',\n",
    "        'project_name',\n",
    "        'service',\n",
    "        'NoneType',\n",
    "        'Наименование стартапа',\n",
    "        'ИНН',\n",
    "        'Стадия стартапа',\n",
    "        'Сфера стартапа',\n",
    "        'Технология',\n",
    "        'Пользователь',\n",
    "        'Частный фонд_сумма, долл',\n",
    "        'Государственный фонд_сумма, долл',\n",
    "        'Акселератор_сумма, долл',\n",
    "        'Корпоративный инвестор_сумма, долл',\n",
    "        'Корпоративный фонд_сумма, долл'\n",
    "    ]\n",
    ",axis=1)"
   ],
   "metadata": {
    "collapsed": false,
    "pycharm": {
     "name": "#%%\n"
    }
   }
  },
  {
   "cell_type": "code",
   "execution_count": 36,
   "outputs": [
    {
     "data": {
      "text/plain": "     msp  msk_inno  skolk_inno  nav_stat  inno_comp  start_up  B2B2C  B2G  \\\n0      1         0           0         0          0         0      0    0   \n1      1         0           0         0          0         0      0    0   \n2      1         1           0         1          1         1      0    0   \n3      1         1           1         1          1         0      0    0   \n4      1         0           1         1          1         1      0    0   \n..   ...       ...         ...       ...        ...       ...    ...  ...   \n235    1         1           1         1          1         1      1    0   \n236    1         1           1         1          1         1      0    0   \n237    1         1           1         1          1         1      0    0   \n238    1         1           1         1          1         1      0    0   \n239    1         1           0         0          0         0      0    0   \n\n     B2C  B2B  ...  Технопарк \"ВТИ\"  Технопарк \"ЭЛМА\"  Технопарк \"Полюс\"  \\\n0      0    0  ...                0                 0                  0   \n1      0    0  ...                0                 0                  0   \n2      0    1  ...                0                 0                  0   \n3      0    1  ...                0                 0                  0   \n4      1    1  ...                0                 0                  0   \n..   ...  ...  ...              ...               ...                ...   \n235    1    0  ...                0                 0                  0   \n236    0    1  ...                0                 0                  0   \n237    0    1  ...                0                 0                  0   \n238    0    1  ...                0                 0                  0   \n239    0    0  ...                0                 0                  0   \n\n     Технопарк \"Сапфир\"  Технопарк \"Слава\"            Частный фонд  \\\n0                     0                  0                    None   \n1                     0                  0                    None   \n2                     0                  0              DV Capital   \n3                     0                  0   New Industry Ventures   \n4                     0                  0                    None   \n..                  ...                ...                     ...   \n235                   0                  0                    ФРИИ   \n236                   0                  0  People&People, TerraVC   \n237                   0                  0                    None   \n238                   0                  0                    None   \n239                   0                  0                    None   \n\n                 Государственный фонд  Акселератор  Корпоративный инвестор  \\\n0                                None         None                  Prytek   \n1                                None         None                Сбербанк   \n2                                None         None                    None   \n3                                None         None                    None   \n4                                None         None                    None   \n..                                ...          ...                     ...   \n235                              None         None                    None   \n236                              None         None                    None   \n237  МИР (принадлежит Корпорации МСП)         None                    None   \n238                  Moscow Seed Fund         None                    None   \n239                              None         None  Inventive Retail Group   \n\n     Корпоративный фонд  \n0                  None  \n1                  None  \n2                  None  \n3                  None  \n4          GamesBoost42  \n..                  ...  \n235                None  \n236                None  \n237                None  \n238                None  \n239                None  \n\n[240 rows x 110 columns]",
      "text/html": "<div>\n<style scoped>\n    .dataframe tbody tr th:only-of-type {\n        vertical-align: middle;\n    }\n\n    .dataframe tbody tr th {\n        vertical-align: top;\n    }\n\n    .dataframe thead th {\n        text-align: right;\n    }\n</style>\n<table border=\"1\" class=\"dataframe\">\n  <thead>\n    <tr style=\"text-align: right;\">\n      <th></th>\n      <th>msp</th>\n      <th>msk_inno</th>\n      <th>skolk_inno</th>\n      <th>nav_stat</th>\n      <th>inno_comp</th>\n      <th>start_up</th>\n      <th>B2B2C</th>\n      <th>B2G</th>\n      <th>B2C</th>\n      <th>B2B</th>\n      <th>...</th>\n      <th>Технопарк \"ВТИ\"</th>\n      <th>Технопарк \"ЭЛМА\"</th>\n      <th>Технопарк \"Полюс\"</th>\n      <th>Технопарк \"Сапфир\"</th>\n      <th>Технопарк \"Слава\"</th>\n      <th>Частный фонд</th>\n      <th>Государственный фонд</th>\n      <th>Акселератор</th>\n      <th>Корпоративный инвестор</th>\n      <th>Корпоративный фонд</th>\n    </tr>\n  </thead>\n  <tbody>\n    <tr>\n      <th>0</th>\n      <td>1</td>\n      <td>0</td>\n      <td>0</td>\n      <td>0</td>\n      <td>0</td>\n      <td>0</td>\n      <td>0</td>\n      <td>0</td>\n      <td>0</td>\n      <td>0</td>\n      <td>...</td>\n      <td>0</td>\n      <td>0</td>\n      <td>0</td>\n      <td>0</td>\n      <td>0</td>\n      <td>None</td>\n      <td>None</td>\n      <td>None</td>\n      <td>Prytek</td>\n      <td>None</td>\n    </tr>\n    <tr>\n      <th>1</th>\n      <td>1</td>\n      <td>0</td>\n      <td>0</td>\n      <td>0</td>\n      <td>0</td>\n      <td>0</td>\n      <td>0</td>\n      <td>0</td>\n      <td>0</td>\n      <td>0</td>\n      <td>...</td>\n      <td>0</td>\n      <td>0</td>\n      <td>0</td>\n      <td>0</td>\n      <td>0</td>\n      <td>None</td>\n      <td>None</td>\n      <td>None</td>\n      <td>Сбербанк</td>\n      <td>None</td>\n    </tr>\n    <tr>\n      <th>2</th>\n      <td>1</td>\n      <td>1</td>\n      <td>0</td>\n      <td>1</td>\n      <td>1</td>\n      <td>1</td>\n      <td>0</td>\n      <td>0</td>\n      <td>0</td>\n      <td>1</td>\n      <td>...</td>\n      <td>0</td>\n      <td>0</td>\n      <td>0</td>\n      <td>0</td>\n      <td>0</td>\n      <td>DV Capital</td>\n      <td>None</td>\n      <td>None</td>\n      <td>None</td>\n      <td>None</td>\n    </tr>\n    <tr>\n      <th>3</th>\n      <td>1</td>\n      <td>1</td>\n      <td>1</td>\n      <td>1</td>\n      <td>1</td>\n      <td>0</td>\n      <td>0</td>\n      <td>0</td>\n      <td>0</td>\n      <td>1</td>\n      <td>...</td>\n      <td>0</td>\n      <td>0</td>\n      <td>0</td>\n      <td>0</td>\n      <td>0</td>\n      <td>New Industry Ventures</td>\n      <td>None</td>\n      <td>None</td>\n      <td>None</td>\n      <td>None</td>\n    </tr>\n    <tr>\n      <th>4</th>\n      <td>1</td>\n      <td>0</td>\n      <td>1</td>\n      <td>1</td>\n      <td>1</td>\n      <td>1</td>\n      <td>0</td>\n      <td>0</td>\n      <td>1</td>\n      <td>1</td>\n      <td>...</td>\n      <td>0</td>\n      <td>0</td>\n      <td>0</td>\n      <td>0</td>\n      <td>0</td>\n      <td>None</td>\n      <td>None</td>\n      <td>None</td>\n      <td>None</td>\n      <td>GamesBoost42</td>\n    </tr>\n    <tr>\n      <th>...</th>\n      <td>...</td>\n      <td>...</td>\n      <td>...</td>\n      <td>...</td>\n      <td>...</td>\n      <td>...</td>\n      <td>...</td>\n      <td>...</td>\n      <td>...</td>\n      <td>...</td>\n      <td>...</td>\n      <td>...</td>\n      <td>...</td>\n      <td>...</td>\n      <td>...</td>\n      <td>...</td>\n      <td>...</td>\n      <td>...</td>\n      <td>...</td>\n      <td>...</td>\n      <td>...</td>\n    </tr>\n    <tr>\n      <th>235</th>\n      <td>1</td>\n      <td>1</td>\n      <td>1</td>\n      <td>1</td>\n      <td>1</td>\n      <td>1</td>\n      <td>1</td>\n      <td>0</td>\n      <td>1</td>\n      <td>0</td>\n      <td>...</td>\n      <td>0</td>\n      <td>0</td>\n      <td>0</td>\n      <td>0</td>\n      <td>0</td>\n      <td>ФРИИ</td>\n      <td>None</td>\n      <td>None</td>\n      <td>None</td>\n      <td>None</td>\n    </tr>\n    <tr>\n      <th>236</th>\n      <td>1</td>\n      <td>1</td>\n      <td>1</td>\n      <td>1</td>\n      <td>1</td>\n      <td>1</td>\n      <td>0</td>\n      <td>0</td>\n      <td>0</td>\n      <td>1</td>\n      <td>...</td>\n      <td>0</td>\n      <td>0</td>\n      <td>0</td>\n      <td>0</td>\n      <td>0</td>\n      <td>People&amp;People, TerraVC</td>\n      <td>None</td>\n      <td>None</td>\n      <td>None</td>\n      <td>None</td>\n    </tr>\n    <tr>\n      <th>237</th>\n      <td>1</td>\n      <td>1</td>\n      <td>1</td>\n      <td>1</td>\n      <td>1</td>\n      <td>1</td>\n      <td>0</td>\n      <td>0</td>\n      <td>0</td>\n      <td>1</td>\n      <td>...</td>\n      <td>0</td>\n      <td>0</td>\n      <td>0</td>\n      <td>0</td>\n      <td>0</td>\n      <td>None</td>\n      <td>МИР (принадлежит Корпорации МСП)</td>\n      <td>None</td>\n      <td>None</td>\n      <td>None</td>\n    </tr>\n    <tr>\n      <th>238</th>\n      <td>1</td>\n      <td>1</td>\n      <td>1</td>\n      <td>1</td>\n      <td>1</td>\n      <td>1</td>\n      <td>0</td>\n      <td>0</td>\n      <td>0</td>\n      <td>1</td>\n      <td>...</td>\n      <td>0</td>\n      <td>0</td>\n      <td>0</td>\n      <td>0</td>\n      <td>0</td>\n      <td>None</td>\n      <td>Moscow Seed Fund</td>\n      <td>None</td>\n      <td>None</td>\n      <td>None</td>\n    </tr>\n    <tr>\n      <th>239</th>\n      <td>1</td>\n      <td>1</td>\n      <td>0</td>\n      <td>0</td>\n      <td>0</td>\n      <td>0</td>\n      <td>0</td>\n      <td>0</td>\n      <td>0</td>\n      <td>0</td>\n      <td>...</td>\n      <td>0</td>\n      <td>0</td>\n      <td>0</td>\n      <td>0</td>\n      <td>0</td>\n      <td>None</td>\n      <td>None</td>\n      <td>None</td>\n      <td>Inventive Retail Group</td>\n      <td>None</td>\n    </tr>\n  </tbody>\n</table>\n<p>240 rows × 110 columns</p>\n</div>"
     },
     "execution_count": 36,
     "metadata": {},
     "output_type": "execute_result"
    }
   ],
   "source": [
    "train_context\n"
   ],
   "metadata": {
    "collapsed": false,
    "pycharm": {
     "name": "#%%\n"
    }
   }
  },
  {
   "cell_type": "code",
   "execution_count": 60,
   "outputs": [],
   "source": [
    "private_fond_actions = train_context['Частный фонд'].apply(lambda x: 0 if x == 'None' else 1).tolist()\n",
    "goverm_fond_actions = train_context['Государственный фонд'].apply(lambda x: 0 if x == 'None' else 1).tolist()\n",
    "accel_actions = train_context['Акселератор'].apply(lambda x: 0 if x == 'None' else 1).tolist()\n",
    "corporate_fond_actions = train_context['Корпоративный фонд'].apply(lambda x: 0 if x == 'None' else 1).tolist()\n",
    "corporate_inv_actions = train_context['Корпоративный инвестор'].apply(lambda x: 0 if x == 'None' else 1).tolist()\n",
    "\n",
    "actions_list = [\n",
    "    private_fond_actions,\n",
    "    goverm_fond_actions,\n",
    "    accel_actions,\n",
    "    corporate_fond_actions,\n",
    "    corporate_inv_actions\n",
    "]\n"
   ],
   "metadata": {
    "collapsed": false,
    "pycharm": {
     "name": "#%%\n"
    }
   }
  },
  {
   "cell_type": "code",
   "execution_count": 50,
   "outputs": [
    {
     "data": {
      "text/plain": "array([5, 1, 4, 2, 0, 3, 6, 7], dtype=int64)"
     },
     "execution_count": 50,
     "metadata": {},
     "output_type": "execute_result"
    }
   ],
   "source": [
    "train_context['actions'].unique()"
   ],
   "metadata": {
    "collapsed": false,
    "pycharm": {
     "name": "#%%\n"
    }
   }
  },
  {
   "cell_type": "code",
   "execution_count": 41,
   "outputs": [],
   "source": [
    "context_df = train_context.drop(['Частный фонд', 'Государственный фонд', 'Акселератор', 'Корпоративный фонд', 'Корпоративный инвестор'], axis=1)\n",
    "context_columns = context_df.columns.tolist()"
   ],
   "metadata": {
    "collapsed": false,
    "pycharm": {
     "name": "#%%\n"
    }
   }
  },
  {
   "cell_type": "code",
   "execution_count": 70,
   "outputs": [],
   "source": [
    "from space_bandits import LinearBandits\n",
    "from space_bandits import NeuralBandits\n",
    "from tqdm import tqdm"
   ],
   "metadata": {
    "collapsed": false,
    "pycharm": {
     "name": "#%%\n"
    }
   }
  },
  {
   "cell_type": "code",
   "execution_count": 76,
   "outputs": [],
   "source": [
    "num_actions = 5\n",
    "num_features = len(context_columns)\n",
    "bandit_model = LinearBandits(num_actions, num_features)"
   ],
   "metadata": {
    "collapsed": false,
    "pycharm": {
     "name": "#%%\n"
    }
   }
  },
  {
   "cell_type": "code",
   "execution_count": 77,
   "outputs": [
    {
     "data": {
      "text/plain": "240"
     },
     "execution_count": 77,
     "metadata": {},
     "output_type": "execute_result"
    }
   ],
   "source": [
    "success_df = train_context[context_columns]\n",
    "success_df.shape[0]"
   ],
   "metadata": {
    "collapsed": false,
    "pycharm": {
     "name": "#%%\n"
    }
   }
  },
  {
   "cell_type": "code",
   "execution_count": 78,
   "outputs": [
    {
     "name": "stderr",
     "output_type": "stream",
     "text": [
      "100%|██████████| 240/240 [00:03<00:00, 79.58it/s]\n"
     ]
    }
   ],
   "source": [
    "for i in tqdm(range(success_df.shape[0])):\n",
    "\n",
    "    for action in range(len(actions_list)):\n",
    "\n",
    "        bandit_model.update(\n",
    "            context=success_df.iloc[i],\n",
    "            action=action,\n",
    "            reward=actions_list[action][i]\n",
    "        )\n",
    "\n"
   ],
   "metadata": {
    "collapsed": false,
    "pycharm": {
     "name": "#%%\n"
    }
   }
  },
  {
   "cell_type": "code",
   "execution_count": 79,
   "outputs": [],
   "source": [
    "failed = pd.read_csv('context_df.csv')\n",
    "failed = failed[failed.is_funded == 0][context_columns]"
   ],
   "metadata": {
    "collapsed": false,
    "pycharm": {
     "name": "#%%\n"
    }
   }
  },
  {
   "cell_type": "code",
   "execution_count": 80,
   "outputs": [
    {
     "name": "stderr",
     "output_type": "stream",
     "text": [
      "100%|██████████| 2457/2457 [01:40<00:00, 24.45it/s]\n"
     ]
    }
   ],
   "source": [
    "for i in tqdm(range(failed.shape[0])):\n",
    "\n",
    "    for action in range(len(actions_list)):\n",
    "\n",
    "        bandit_model.update(\n",
    "            context=failed.iloc[i],\n",
    "            action=action,\n",
    "            reward=0\n",
    "        )"
   ],
   "metadata": {
    "collapsed": false,
    "pycharm": {
     "name": "#%%\n"
    }
   }
  },
  {
   "cell_type": "code",
   "execution_count": 86,
   "outputs": [
    {
     "ename": "ValueError",
     "evalue": "cannot reshape array of size 2457 into shape (105)",
     "output_type": "error",
     "traceback": [
      "\u001B[1;31m---------------------------------------------------------------------------\u001B[0m",
      "\u001B[1;31mValueError\u001B[0m                                Traceback (most recent call last)",
      "\u001B[1;32m<ipython-input-86-d001fc453c15>\u001B[0m in \u001B[0;36m<module>\u001B[1;34m\u001B[0m\n\u001B[1;32m----> 1\u001B[1;33m \u001B[0mfailed\u001B[0m\u001B[1;33m.\u001B[0m\u001B[0mapply\u001B[0m\u001B[1;33m(\u001B[0m\u001B[1;32mlambda\u001B[0m \u001B[0mx\u001B[0m\u001B[1;33m:\u001B[0m \u001B[0mbandit_model\u001B[0m\u001B[1;33m.\u001B[0m\u001B[0maction\u001B[0m\u001B[1;33m(\u001B[0m\u001B[0mcontext\u001B[0m\u001B[1;33m=\u001B[0m\u001B[0mx\u001B[0m\u001B[1;33m.\u001B[0m\u001B[0mto_numpy\u001B[0m\u001B[1;33m(\u001B[0m\u001B[1;33m)\u001B[0m\u001B[1;33m)\u001B[0m\u001B[1;33m)\u001B[0m\u001B[1;33m\u001B[0m\u001B[1;33m\u001B[0m\u001B[0m\n\u001B[0m\u001B[0;32m      2\u001B[0m \u001B[1;33m\u001B[0m\u001B[0m\n",
      "\u001B[1;32m~\\anaconda3\\envs\\bot\\lib\\site-packages\\pandas\\core\\frame.py\u001B[0m in \u001B[0;36mapply\u001B[1;34m(self, func, axis, raw, result_type, args, **kwds)\u001B[0m\n\u001B[0;32m   7766\u001B[0m             \u001B[0mkwds\u001B[0m\u001B[1;33m=\u001B[0m\u001B[0mkwds\u001B[0m\u001B[1;33m,\u001B[0m\u001B[1;33m\u001B[0m\u001B[1;33m\u001B[0m\u001B[0m\n\u001B[0;32m   7767\u001B[0m         )\n\u001B[1;32m-> 7768\u001B[1;33m         \u001B[1;32mreturn\u001B[0m \u001B[0mop\u001B[0m\u001B[1;33m.\u001B[0m\u001B[0mget_result\u001B[0m\u001B[1;33m(\u001B[0m\u001B[1;33m)\u001B[0m\u001B[1;33m\u001B[0m\u001B[1;33m\u001B[0m\u001B[0m\n\u001B[0m\u001B[0;32m   7769\u001B[0m \u001B[1;33m\u001B[0m\u001B[0m\n\u001B[0;32m   7770\u001B[0m     \u001B[1;32mdef\u001B[0m \u001B[0mapplymap\u001B[0m\u001B[1;33m(\u001B[0m\u001B[0mself\u001B[0m\u001B[1;33m,\u001B[0m \u001B[0mfunc\u001B[0m\u001B[1;33m,\u001B[0m \u001B[0mna_action\u001B[0m\u001B[1;33m:\u001B[0m \u001B[0mOptional\u001B[0m\u001B[1;33m[\u001B[0m\u001B[0mstr\u001B[0m\u001B[1;33m]\u001B[0m \u001B[1;33m=\u001B[0m \u001B[1;32mNone\u001B[0m\u001B[1;33m)\u001B[0m \u001B[1;33m->\u001B[0m \u001B[0mDataFrame\u001B[0m\u001B[1;33m:\u001B[0m\u001B[1;33m\u001B[0m\u001B[1;33m\u001B[0m\u001B[0m\n",
      "\u001B[1;32m~\\anaconda3\\envs\\bot\\lib\\site-packages\\pandas\\core\\apply.py\u001B[0m in \u001B[0;36mget_result\u001B[1;34m(self)\u001B[0m\n\u001B[0;32m    183\u001B[0m             \u001B[1;32mreturn\u001B[0m \u001B[0mself\u001B[0m\u001B[1;33m.\u001B[0m\u001B[0mapply_raw\u001B[0m\u001B[1;33m(\u001B[0m\u001B[1;33m)\u001B[0m\u001B[1;33m\u001B[0m\u001B[1;33m\u001B[0m\u001B[0m\n\u001B[0;32m    184\u001B[0m \u001B[1;33m\u001B[0m\u001B[0m\n\u001B[1;32m--> 185\u001B[1;33m         \u001B[1;32mreturn\u001B[0m \u001B[0mself\u001B[0m\u001B[1;33m.\u001B[0m\u001B[0mapply_standard\u001B[0m\u001B[1;33m(\u001B[0m\u001B[1;33m)\u001B[0m\u001B[1;33m\u001B[0m\u001B[1;33m\u001B[0m\u001B[0m\n\u001B[0m\u001B[0;32m    186\u001B[0m \u001B[1;33m\u001B[0m\u001B[0m\n\u001B[0;32m    187\u001B[0m     \u001B[1;32mdef\u001B[0m \u001B[0mapply_empty_result\u001B[0m\u001B[1;33m(\u001B[0m\u001B[0mself\u001B[0m\u001B[1;33m)\u001B[0m\u001B[1;33m:\u001B[0m\u001B[1;33m\u001B[0m\u001B[1;33m\u001B[0m\u001B[0m\n",
      "\u001B[1;32m~\\anaconda3\\envs\\bot\\lib\\site-packages\\pandas\\core\\apply.py\u001B[0m in \u001B[0;36mapply_standard\u001B[1;34m(self)\u001B[0m\n\u001B[0;32m    274\u001B[0m \u001B[1;33m\u001B[0m\u001B[0m\n\u001B[0;32m    275\u001B[0m     \u001B[1;32mdef\u001B[0m \u001B[0mapply_standard\u001B[0m\u001B[1;33m(\u001B[0m\u001B[0mself\u001B[0m\u001B[1;33m)\u001B[0m\u001B[1;33m:\u001B[0m\u001B[1;33m\u001B[0m\u001B[1;33m\u001B[0m\u001B[0m\n\u001B[1;32m--> 276\u001B[1;33m         \u001B[0mresults\u001B[0m\u001B[1;33m,\u001B[0m \u001B[0mres_index\u001B[0m \u001B[1;33m=\u001B[0m \u001B[0mself\u001B[0m\u001B[1;33m.\u001B[0m\u001B[0mapply_series_generator\u001B[0m\u001B[1;33m(\u001B[0m\u001B[1;33m)\u001B[0m\u001B[1;33m\u001B[0m\u001B[1;33m\u001B[0m\u001B[0m\n\u001B[0m\u001B[0;32m    277\u001B[0m \u001B[1;33m\u001B[0m\u001B[0m\n\u001B[0;32m    278\u001B[0m         \u001B[1;31m# wrap results\u001B[0m\u001B[1;33m\u001B[0m\u001B[1;33m\u001B[0m\u001B[1;33m\u001B[0m\u001B[0m\n",
      "\u001B[1;32m~\\anaconda3\\envs\\bot\\lib\\site-packages\\pandas\\core\\apply.py\u001B[0m in \u001B[0;36mapply_series_generator\u001B[1;34m(self)\u001B[0m\n\u001B[0;32m    288\u001B[0m             \u001B[1;32mfor\u001B[0m \u001B[0mi\u001B[0m\u001B[1;33m,\u001B[0m \u001B[0mv\u001B[0m \u001B[1;32min\u001B[0m \u001B[0menumerate\u001B[0m\u001B[1;33m(\u001B[0m\u001B[0mseries_gen\u001B[0m\u001B[1;33m)\u001B[0m\u001B[1;33m:\u001B[0m\u001B[1;33m\u001B[0m\u001B[1;33m\u001B[0m\u001B[0m\n\u001B[0;32m    289\u001B[0m                 \u001B[1;31m# ignore SettingWithCopy here in case the user mutates\u001B[0m\u001B[1;33m\u001B[0m\u001B[1;33m\u001B[0m\u001B[1;33m\u001B[0m\u001B[0m\n\u001B[1;32m--> 290\u001B[1;33m                 \u001B[0mresults\u001B[0m\u001B[1;33m[\u001B[0m\u001B[0mi\u001B[0m\u001B[1;33m]\u001B[0m \u001B[1;33m=\u001B[0m \u001B[0mself\u001B[0m\u001B[1;33m.\u001B[0m\u001B[0mf\u001B[0m\u001B[1;33m(\u001B[0m\u001B[0mv\u001B[0m\u001B[1;33m)\u001B[0m\u001B[1;33m\u001B[0m\u001B[1;33m\u001B[0m\u001B[0m\n\u001B[0m\u001B[0;32m    291\u001B[0m                 \u001B[1;32mif\u001B[0m \u001B[0misinstance\u001B[0m\u001B[1;33m(\u001B[0m\u001B[0mresults\u001B[0m\u001B[1;33m[\u001B[0m\u001B[0mi\u001B[0m\u001B[1;33m]\u001B[0m\u001B[1;33m,\u001B[0m \u001B[0mABCSeries\u001B[0m\u001B[1;33m)\u001B[0m\u001B[1;33m:\u001B[0m\u001B[1;33m\u001B[0m\u001B[1;33m\u001B[0m\u001B[0m\n\u001B[0;32m    292\u001B[0m                     \u001B[1;31m# If we have a view on v, we need to make a copy because\u001B[0m\u001B[1;33m\u001B[0m\u001B[1;33m\u001B[0m\u001B[1;33m\u001B[0m\u001B[0m\n",
      "\u001B[1;32m<ipython-input-86-d001fc453c15>\u001B[0m in \u001B[0;36m<lambda>\u001B[1;34m(x)\u001B[0m\n\u001B[1;32m----> 1\u001B[1;33m \u001B[0mfailed\u001B[0m\u001B[1;33m.\u001B[0m\u001B[0mapply\u001B[0m\u001B[1;33m(\u001B[0m\u001B[1;32mlambda\u001B[0m \u001B[0mx\u001B[0m\u001B[1;33m:\u001B[0m \u001B[0mbandit_model\u001B[0m\u001B[1;33m.\u001B[0m\u001B[0maction\u001B[0m\u001B[1;33m(\u001B[0m\u001B[0mcontext\u001B[0m\u001B[1;33m=\u001B[0m\u001B[0mx\u001B[0m\u001B[1;33m.\u001B[0m\u001B[0mto_numpy\u001B[0m\u001B[1;33m(\u001B[0m\u001B[1;33m)\u001B[0m\u001B[1;33m)\u001B[0m\u001B[1;33m)\u001B[0m\u001B[1;33m\u001B[0m\u001B[1;33m\u001B[0m\u001B[0m\n\u001B[0m\u001B[0;32m      2\u001B[0m \u001B[1;33m\u001B[0m\u001B[0m\n",
      "\u001B[1;32m~\\anaconda3\\envs\\bot\\lib\\site-packages\\space_bandits\\linear.py\u001B[0m in \u001B[0;36maction\u001B[1;34m(self, context)\u001B[0m\n\u001B[0;32m    198\u001B[0m             \u001B[1;32mreturn\u001B[0m \u001B[0mself\u001B[0m\u001B[1;33m.\u001B[0m\u001B[0mt\u001B[0m \u001B[1;33m%\u001B[0m \u001B[0mself\u001B[0m\u001B[1;33m.\u001B[0m\u001B[0mhparams\u001B[0m\u001B[1;33m[\u001B[0m\u001B[1;34m'num_actions'\u001B[0m\u001B[1;33m]\u001B[0m\u001B[1;33m\u001B[0m\u001B[1;33m\u001B[0m\u001B[0m\n\u001B[0;32m    199\u001B[0m         \u001B[1;32melse\u001B[0m\u001B[1;33m:\u001B[0m\u001B[1;33m\u001B[0m\u001B[1;33m\u001B[0m\u001B[0m\n\u001B[1;32m--> 200\u001B[1;33m             \u001B[0mvals\u001B[0m \u001B[1;33m=\u001B[0m \u001B[0mself\u001B[0m\u001B[1;33m.\u001B[0m\u001B[0m_sample\u001B[0m\u001B[1;33m(\u001B[0m\u001B[0mcontext\u001B[0m\u001B[1;33m)\u001B[0m\u001B[1;33m\u001B[0m\u001B[1;33m\u001B[0m\u001B[0m\n\u001B[0m\u001B[0;32m    201\u001B[0m             \u001B[1;32mreturn\u001B[0m \u001B[0mnp\u001B[0m\u001B[1;33m.\u001B[0m\u001B[0margmax\u001B[0m\u001B[1;33m(\u001B[0m\u001B[0mvals\u001B[0m\u001B[1;33m)\u001B[0m\u001B[1;33m\u001B[0m\u001B[1;33m\u001B[0m\u001B[0m\n\u001B[0;32m    202\u001B[0m \u001B[1;33m\u001B[0m\u001B[0m\n",
      "\u001B[1;32m~\\anaconda3\\envs\\bot\\lib\\site-packages\\space_bandits\\linear.py\u001B[0m in \u001B[0;36m_sample\u001B[1;34m(self, context, parallelize, n_threads)\u001B[0m\n\u001B[0;32m    145\u001B[0m \u001B[1;33m\u001B[0m\u001B[0m\n\u001B[0;32m    146\u001B[0m         \u001B[1;31m# Sample sigma2, and beta conditional on sigma2\u001B[0m\u001B[1;33m\u001B[0m\u001B[1;33m\u001B[0m\u001B[1;33m\u001B[0m\u001B[0m\n\u001B[1;32m--> 147\u001B[1;33m         \u001B[0mcontext\u001B[0m \u001B[1;33m=\u001B[0m \u001B[0mcontext\u001B[0m\u001B[1;33m.\u001B[0m\u001B[0mreshape\u001B[0m\u001B[1;33m(\u001B[0m\u001B[1;33m-\u001B[0m\u001B[1;36m1\u001B[0m\u001B[1;33m,\u001B[0m \u001B[0mself\u001B[0m\u001B[1;33m.\u001B[0m\u001B[0mhparams\u001B[0m\u001B[1;33m[\u001B[0m\u001B[1;34m'context_dim'\u001B[0m\u001B[1;33m]\u001B[0m\u001B[1;33m)\u001B[0m\u001B[1;33m\u001B[0m\u001B[1;33m\u001B[0m\u001B[0m\n\u001B[0m\u001B[0;32m    148\u001B[0m         \u001B[0mn_rows\u001B[0m \u001B[1;33m=\u001B[0m \u001B[0mlen\u001B[0m\u001B[1;33m(\u001B[0m\u001B[0mcontext\u001B[0m\u001B[1;33m)\u001B[0m\u001B[1;33m\u001B[0m\u001B[1;33m\u001B[0m\u001B[0m\n\u001B[0;32m    149\u001B[0m         \u001B[0ma_projected\u001B[0m \u001B[1;33m=\u001B[0m \u001B[0mnp\u001B[0m\u001B[1;33m.\u001B[0m\u001B[0mrepeat\u001B[0m\u001B[1;33m(\u001B[0m\u001B[0mnp\u001B[0m\u001B[1;33m.\u001B[0m\u001B[0marray\u001B[0m\u001B[1;33m(\u001B[0m\u001B[0mself\u001B[0m\u001B[1;33m.\u001B[0m\u001B[0ma\u001B[0m\u001B[1;33m)\u001B[0m\u001B[1;33m[\u001B[0m\u001B[0mnp\u001B[0m\u001B[1;33m.\u001B[0m\u001B[0mnewaxis\u001B[0m\u001B[1;33m,\u001B[0m \u001B[1;33m:\u001B[0m\u001B[1;33m]\u001B[0m\u001B[1;33m,\u001B[0m \u001B[0mn_rows\u001B[0m\u001B[1;33m,\u001B[0m \u001B[0maxis\u001B[0m\u001B[1;33m=\u001B[0m\u001B[1;36m0\u001B[0m\u001B[1;33m)\u001B[0m\u001B[1;33m\u001B[0m\u001B[1;33m\u001B[0m\u001B[0m\n",
      "\u001B[1;31mValueError\u001B[0m: cannot reshape array of size 2457 into shape (105)"
     ]
    }
   ],
   "source": [
    "failed.apply(lambda x: bandit_model.action(context=x.to_numpy()))"
   ],
   "metadata": {
    "collapsed": false,
    "pycharm": {
     "name": "#%%\n"
    }
   }
  },
  {
   "cell_type": "code",
   "execution_count": 88,
   "outputs": [
    {
     "name": "stderr",
     "output_type": "stream",
     "text": [
      "100%|██████████| 2457/2457 [01:52<00:00, 21.82it/s]\n"
     ]
    }
   ],
   "source": [
    "result = []\n",
    "for i in tqdm(range(failed.shape[0])):\n",
    "\n",
    "    result += [bandit_model.action(\n",
    "        context=failed.iloc[i].to_numpy()\n",
    "    )]"
   ],
   "metadata": {
    "collapsed": false,
    "pycharm": {
     "name": "#%%\n"
    }
   }
  },
  {
   "cell_type": "code",
   "execution_count": 89,
   "outputs": [
    {
     "data": {
      "text/plain": "[4,\n 4,\n 1,\n 3,\n 1,\n 2,\n 4,\n 2,\n 0,\n 4,\n 1,\n 0,\n 1,\n 0,\n 4,\n 4,\n 2,\n 0,\n 2,\n 2,\n 1,\n 2,\n 4,\n 0,\n 4,\n 2,\n 3,\n 2,\n 0,\n 1,\n 1,\n 4,\n 4,\n 4,\n 3,\n 0,\n 0,\n 1,\n 2,\n 0,\n 0,\n 0,\n 0,\n 4,\n 3,\n 4,\n 0,\n 2,\n 2,\n 1,\n 4,\n 0,\n 2,\n 0,\n 1,\n 1,\n 0,\n 2,\n 0,\n 0,\n 0,\n 2,\n 4,\n 4,\n 1,\n 2,\n 1,\n 1,\n 1,\n 4,\n 1,\n 0,\n 2,\n 0,\n 0,\n 4,\n 4,\n 4,\n 2,\n 0,\n 4,\n 2,\n 4,\n 1,\n 1,\n 0,\n 1,\n 2,\n 1,\n 2,\n 1,\n 4,\n 4,\n 3,\n 1,\n 4,\n 0,\n 3,\n 4,\n 2,\n 1,\n 1,\n 2,\n 0,\n 1,\n 4,\n 4,\n 0,\n 0,\n 2,\n 4,\n 0,\n 1,\n 2,\n 1,\n 1,\n 1,\n 0,\n 4,\n 2,\n 1,\n 0,\n 1,\n 2,\n 2,\n 2,\n 0,\n 1,\n 0,\n 2,\n 4,\n 0,\n 0,\n 2,\n 0,\n 4,\n 3,\n 3,\n 2,\n 4,\n 3,\n 1,\n 4,\n 0,\n 0,\n 2,\n 4,\n 4,\n 1,\n 1,\n 0,\n 0,\n 1,\n 0,\n 2,\n 2,\n 0,\n 4,\n 4,\n 0,\n 2,\n 4,\n 4,\n 2,\n 1,\n 0,\n 4,\n 3,\n 4,\n 3,\n 4,\n 2,\n 0,\n 4,\n 4,\n 2,\n 1,\n 0,\n 0,\n 4,\n 0,\n 1,\n 3,\n 4,\n 2,\n 3,\n 2,\n 0,\n 2,\n 1,\n 1,\n 2,\n 2,\n 1,\n 2,\n 1,\n 3,\n 4,\n 2,\n 3,\n 4,\n 0,\n 2,\n 2,\n 2,\n 3,\n 3,\n 0,\n 0,\n 0,\n 3,\n 0,\n 0,\n 0,\n 4,\n 0,\n 2,\n 0,\n 4,\n 2,\n 4,\n 4,\n 4,\n 4,\n 0,\n 1,\n 3,\n 2,\n 4,\n 0,\n 3,\n 2,\n 0,\n 1,\n 4,\n 2,\n 3,\n 0,\n 0,\n 2,\n 3,\n 2,\n 2,\n 2,\n 2,\n 1,\n 0,\n 4,\n 4,\n 1,\n 4,\n 1,\n 1,\n 0,\n 4,\n 3,\n 4,\n 4,\n 4,\n 0,\n 1,\n 4,\n 4,\n 0,\n 3,\n 1,\n 0,\n 2,\n 4,\n 1,\n 2,\n 4,\n 2,\n 1,\n 2,\n 2,\n 3,\n 0,\n 0,\n 2,\n 2,\n 2,\n 1,\n 4,\n 2,\n 1,\n 3,\n 4,\n 3,\n 2,\n 2,\n 2,\n 1,\n 0,\n 0,\n 2,\n 2,\n 0,\n 3,\n 2,\n 4,\n 0,\n 0,\n 1,\n 0,\n 3,\n 2,\n 2,\n 0,\n 1,\n 1,\n 3,\n 1,\n 0,\n 0,\n 0,\n 2,\n 3,\n 2,\n 4,\n 0,\n 0,\n 4,\n 2,\n 4,\n 0,\n 2,\n 1,\n 0,\n 2,\n 4,\n 4,\n 1,\n 1,\n 1,\n 0,\n 2,\n 1,\n 0,\n 1,\n 3,\n 3,\n 2,\n 4,\n 2,\n 2,\n 4,\n 0,\n 4,\n 4,\n 2,\n 1,\n 0,\n 0,\n 4,\n 2,\n 4,\n 2,\n 2,\n 1,\n 2,\n 1,\n 2,\n 2,\n 2,\n 0,\n 2,\n 2,\n 2,\n 2,\n 4,\n 2,\n 2,\n 1,\n 4,\n 4,\n 0,\n 3,\n 1,\n 0,\n 4,\n 4,\n 3,\n 2,\n 4,\n 4,\n 2,\n 4,\n 3,\n 3,\n 3,\n 2,\n 2,\n 4,\n 2,\n 2,\n 2,\n 4,\n 4,\n 2,\n 1,\n 4,\n 4,\n 0,\n 2,\n 0,\n 0,\n 4,\n 2,\n 4,\n 2,\n 2,\n 2,\n 4,\n 4,\n 4,\n 4,\n 0,\n 2,\n 0,\n 4,\n 4,\n 2,\n 0,\n 2,\n 1,\n 2,\n 2,\n 4,\n 4,\n 2,\n 1,\n 1,\n 3,\n 3,\n 3,\n 0,\n 2,\n 2,\n 1,\n 4,\n 4,\n 4,\n 2,\n 4,\n 0,\n 4,\n 4,\n 2,\n 4,\n 2,\n 4,\n 2,\n 4,\n 2,\n 0,\n 4,\n 2,\n 4,\n 4,\n 4,\n 2,\n 2,\n 3,\n 4,\n 4,\n 1,\n 1,\n 4,\n 4,\n 4,\n 2,\n 0,\n 4,\n 1,\n 1,\n 2,\n 2,\n 2,\n 4,\n 2,\n 2,\n 2,\n 2,\n 4,\n 2,\n 0,\n 4,\n 4,\n 2,\n 0,\n 4,\n 0,\n 3,\n 1,\n 0,\n 2,\n 1,\n 4,\n 2,\n 2,\n 0,\n 0,\n 3,\n 2,\n 1,\n 1,\n 2,\n 1,\n 2,\n 2,\n 0,\n 0,\n 2,\n 2,\n 0,\n 2,\n 4,\n 3,\n 0,\n 0,\n 0,\n 2,\n 2,\n 0,\n 4,\n 2,\n 2,\n 2,\n 2,\n 4,\n 0,\n 4,\n 4,\n 4,\n 2,\n 4,\n 2,\n 0,\n 2,\n 4,\n 4,\n 0,\n 0,\n 4,\n 4,\n 0,\n 2,\n 4,\n 2,\n 4,\n 1,\n 3,\n 4,\n 2,\n 4,\n 2,\n 1,\n 1,\n 3,\n 4,\n 1,\n 2,\n 4,\n 2,\n 3,\n 2,\n 4,\n 2,\n 2,\n 4,\n 4,\n 4,\n 4,\n 4,\n 4,\n 4,\n 4,\n 4,\n 2,\n 4,\n 4,\n 2,\n 0,\n 4,\n 4,\n 2,\n 4,\n 4,\n 2,\n 2,\n 2,\n 1,\n 2,\n 2,\n 1,\n 3,\n 4,\n 2,\n 2,\n 1,\n 3,\n 4,\n 2,\n 0,\n 0,\n 2,\n 4,\n 2,\n 2,\n 4,\n 3,\n 1,\n 2,\n 3,\n 1,\n 4,\n 2,\n 4,\n 4,\n 2,\n 0,\n 4,\n 1,\n 4,\n 0,\n 2,\n 2,\n 3,\n 2,\n 4,\n 0,\n 4,\n 2,\n 3,\n 2,\n 4,\n 4,\n 2,\n 4,\n 2,\n 2,\n 2,\n 4,\n 2,\n 4,\n 0,\n 3,\n 2,\n 2,\n 2,\n 3,\n 0,\n 4,\n 0,\n 4,\n 2,\n 4,\n 4,\n 4,\n 2,\n 3,\n 4,\n 1,\n 4,\n 2,\n 4,\n 1,\n 0,\n 0,\n 0,\n 4,\n 4,\n 1,\n 1,\n 0,\n 4,\n 4,\n 1,\n 2,\n 2,\n 0,\n 0,\n 2,\n 3,\n 2,\n 1,\n 2,\n 0,\n 4,\n 2,\n 4,\n 2,\n 2,\n 2,\n 2,\n 2,\n 1,\n 0,\n 0,\n 2,\n 4,\n 3,\n 4,\n 2,\n 2,\n 1,\n 4,\n 2,\n 0,\n 0,\n 1,\n 3,\n 4,\n 2,\n 2,\n 0,\n 4,\n 4,\n 2,\n 2,\n 4,\n 2,\n 1,\n 0,\n 4,\n 2,\n 2,\n 4,\n 4,\n 2,\n 3,\n 2,\n 4,\n 1,\n 0,\n 2,\n 3,\n 4,\n 2,\n 4,\n 2,\n 2,\n 2,\n 2,\n 3,\n 2,\n 1,\n 0,\n 2,\n 2,\n 1,\n 4,\n 2,\n 4,\n 2,\n 2,\n 2,\n 3,\n 4,\n 4,\n 1,\n 4,\n 0,\n 2,\n 1,\n 2,\n 4,\n 1,\n 1,\n 1,\n 1,\n 0,\n 0,\n 0,\n 0,\n 3,\n 0,\n 4,\n 4,\n 3,\n 1,\n 2,\n 2,\n 1,\n 4,\n 0,\n 1,\n 2,\n 4,\n 0,\n 4,\n 2,\n 4,\n 0,\n 2,\n 3,\n 4,\n 1,\n 0,\n 4,\n 2,\n 3,\n 4,\n 4,\n 2,\n 3,\n 1,\n 1,\n 0,\n 4,\n 3,\n 2,\n 2,\n 3,\n 2,\n 4,\n 3,\n 2,\n 4,\n 2,\n 2,\n 2,\n 2,\n 4,\n 4,\n 2,\n 4,\n 2,\n 2,\n 2,\n 4,\n 0,\n 4,\n 4,\n 4,\n 4,\n 0,\n 4,\n 0,\n 1,\n 2,\n 4,\n 1,\n 4,\n 2,\n 2,\n 0,\n 2,\n 2,\n 0,\n 4,\n 2,\n 2,\n 4,\n 0,\n 4,\n 4,\n 2,\n 2,\n 2,\n 1,\n 1,\n 4,\n 4,\n 2,\n 2,\n 1,\n 4,\n 4,\n 4,\n 2,\n 2,\n 4,\n 3,\n 0,\n 4,\n 1,\n 1,\n 2,\n 0,\n 2,\n 4,\n 0,\n 4,\n 1,\n 2,\n 4,\n 1,\n 4,\n 4,\n 0,\n 0,\n 4,\n 2,\n 4,\n 4,\n 0,\n 4,\n 2,\n 4,\n 1,\n 3,\n 2,\n 0,\n 2,\n 2,\n 2,\n 3,\n 4,\n 4,\n 3,\n 3,\n 0,\n 0,\n 2,\n 4,\n 4,\n 4,\n 2,\n 1,\n 0,\n 4,\n 0,\n 4,\n 2,\n 2,\n 2,\n 3,\n 2,\n 2,\n 2,\n 3,\n 4,\n 0,\n 4,\n 2,\n 4,\n 1,\n 4,\n 2,\n 4,\n 0,\n 0,\n 4,\n 4,\n 0,\n 4,\n 0,\n 4,\n 0,\n 4,\n 4,\n 4,\n 4,\n 4,\n 0,\n 1,\n 0,\n 2,\n 2,\n 1,\n 2,\n 1,\n 0,\n 3,\n 4,\n 0,\n 0,\n 0,\n 4,\n 2,\n 1,\n 4,\n 2,\n 1,\n 4,\n 4,\n 0,\n 4,\n 2,\n 4,\n 4,\n 0,\n 2,\n 2,\n 0,\n 2,\n 2,\n 4,\n 4,\n 0,\n 4,\n 1,\n 2,\n 0,\n 4,\n 0,\n 4,\n 4,\n ...]"
     },
     "execution_count": 89,
     "metadata": {},
     "output_type": "execute_result"
    }
   ],
   "source": [
    "result"
   ],
   "metadata": {
    "collapsed": false,
    "pycharm": {
     "name": "#%%\n"
    }
   }
  },
  {
   "cell_type": "code",
   "execution_count": 90,
   "outputs": [],
   "source": [
    "import pickle"
   ],
   "metadata": {
    "collapsed": false,
    "pycharm": {
     "name": "#%%\n"
    }
   }
  },
  {
   "cell_type": "code",
   "execution_count": 93,
   "outputs": [],
   "source": [
    "with open('bandit_model.pkl', 'wb') as handle:\n",
    "    pickle.dump(bandit_model, handle, protocol=pickle.HIGHEST_PROTOCOL)"
   ],
   "metadata": {
    "collapsed": false,
    "pycharm": {
     "name": "#%%\n"
    }
   }
  },
  {
   "cell_type": "code",
   "execution_count": 97,
   "outputs": [],
   "source": [
    "with open('context_columns.pkl', 'wb') as handle:\n",
    "    pickle.dump(context_columns, handle, protocol=pickle.HIGHEST_PROTOCOL)"
   ],
   "metadata": {
    "collapsed": false,
    "pycharm": {
     "name": "#%%\n"
    }
   }
  }
 ],
 "metadata": {
  "kernelspec": {
   "display_name": "Python 3",
   "language": "python",
   "name": "python3"
  },
  "language_info": {
   "codemirror_mode": {
    "name": "ipython",
    "version": 2
   },
   "file_extension": ".py",
   "mimetype": "text/x-python",
   "name": "python",
   "nbconvert_exporter": "python",
   "pygments_lexer": "ipython2",
   "version": "2.7.6"
  }
 },
 "nbformat": 4,
 "nbformat_minor": 0
}