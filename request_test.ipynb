{
 "cells": [
  {
   "cell_type": "code",
   "execution_count": 1,
   "metadata": {
    "collapsed": true
   },
   "outputs": [],
   "source": [
    "import json\n",
    "import requests\n",
    "import pandas as pd"
   ]
  },
  {
   "cell_type": "code",
   "execution_count": 139,
   "outputs": [
    {
     "name": "stdout",
     "output_type": "stream",
     "text": [
      "<Response [200]>\n"
     ]
    }
   ],
   "source": [
    "# 'Сервис',\n",
    "# 'Дата основания',\n",
    "# \"Фильтр 'Рынок' для Инновационных компаний\",\n",
    "# \"Фильтр 'Технологии' для Инновационных компаний\",\n",
    "# 'Бизнес-модель для Инновационных компаний'\n",
    "\n",
    "easy_recommend_to_send = {\n",
    "    'start_up': {\n",
    "        'service': ['Найти финансирование'],\n",
    "        'found_date': ['2021-06-01'],\n",
    "        'market_type': ['Healthcare', 'IndustrialTech'],\n",
    "        'tech_type': ['Биотехнологии'],\n",
    "        'tech_stack': ['ИТ, разработка ПО'],\n",
    "        'techp_residents': ['Технопарк \"Сколково\"'],\n",
    "        'b_model': ['B2C'],\n",
    "        'evo_stage': ['Посевная'],\n",
    "        'skolk_inno': [1],\n",
    "        'msk_inno': [1],\n",
    "        'nav_stat': [1],\n",
    "        'inno_comp': [1],\n",
    "        'start_up': [1],\n",
    "        'msp': [1],\n",
    "        'msp_cat': ['ИП Микро']\n",
    "    }\n",
    "}\n",
    "\n",
    "ping_answer = requests.get('https://testdragonsflask.herokuapp.com/api/ping')\n",
    "\n",
    "get_answer = requests.get('https://testdragonsflask.herokuapp.com/api/init')\n",
    "\n",
    "res_heroku = requests.post(\n",
    "    'https://testdragonsflask.herokuapp.com/api/personalrecommend',\n",
    "    json=easy_recommend_to_send\n",
    ")\n",
    "\n",
    "ping_answer_2 = requests.get('https://testdragonsflask.herokuapp.com/api/ping')\n",
    "print(res_heroku)"
   ],
   "metadata": {
    "collapsed": false,
    "pycharm": {
     "name": "#%%\n"
    }
   }
  },
  {
   "cell_type": "code",
   "execution_count": 138,
   "outputs": [
    {
     "name": "stdout",
     "output_type": "stream",
     "text": [
      "[{'name': 'Bayer', 'rating': 1.0, 'type': 'corporate_services_df'}, {'name': 'Р-фарм', 'rating': 1.0, 'type': 'corporate_services_df'}, {'name': 'Венчурный фонд НТИ', 'rating': 0.8375990557400715, 'type': 'venture_fond_services_df'}, {'name': 'Primer Capital', 'rating': 0.8266241496450728, 'type': 'venture_fond_services_df'}, {'name': 'Generation S и FERRING', 'rating': 0.8029772512472242, 'type': 'accelerator_services_df'}, {'name': 'RBV Capital', 'rating': 0.7983035605512375, 'type': 'venture_fond_services_df'}, {'name': 'A&A Capital', 'rating': 0.7646475619791595, 'type': 'venture_fond_services_df'}, {'name': 'Moscow Seed Fund', 'rating': 0.7646475619791595, 'type': 'venture_fond_services_df'}, {'name': 'Phystech Leadership Fund', 'rating': 0.7646475619791595, 'type': 'venture_fond_services_df'}, {'name': 'SmartHub', 'rating': 0.7646475619791595, 'type': 'venture_fond_services_df'}]\n"
     ]
    }
   ],
   "source": [
    "print(res_heroku.json())"
   ],
   "metadata": {
    "collapsed": false,
    "pycharm": {
     "name": "#%%\n"
    }
   }
  },
  {
   "cell_type": "code",
   "execution_count": 125,
   "outputs": [
    {
     "data": {
      "text/plain": "{'status': 'ok'}"
     },
     "execution_count": 125,
     "metadata": {},
     "output_type": "execute_result"
    }
   ],
   "source": [
    "\n",
    "ping_answer.json()\n",
    "\n",
    "ping_answer_2.json()\n",
    "\n",
    "get_answer.json()\n"
   ],
   "metadata": {
    "collapsed": false,
    "pycharm": {
     "name": "#%%\n"
    }
   }
  },
  {
   "cell_type": "code",
   "execution_count": 40,
   "outputs": [
    {
     "name": "stdout",
     "output_type": "stream",
     "text": [
      "[{'name': 'Агентство инноваций Москвы', 'rating': 1.0, 'type': 'institutes_services_df'}, {'name': 'Московский экспортный центр', 'rating': 0.0, 'type': 'institutes_services_df'}, {'name': 'ВЭБ.РФ', 'rating': 0.0, 'type': 'institutes_services_df'}, {'name': 'Российский экспортный центр', 'rating': 0.0, 'type': 'institutes_services_df'}, {'name': 'Корпорация по развитию малого и среднего предпринимательства', 'rating': 0.0, 'type': 'institutes_services_df'}, {'name': 'Фонд содействия кредитованию малого бизнеса Москвы', 'rating': 0.0, 'type': 'institutes_services_df'}, {'name': 'Фонд развития промышленности', 'rating': 0.0, 'type': 'institutes_services_df'}, {'name': 'Фонд развития венчурного инвестирования города Москвы', 'rating': 0.0, 'type': 'institutes_services_df'}, {'name': 'Московский фонд поддержки промышленности и предпринимательства', 'rating': 0.0, 'type': 'institutes_services_df'}, {'name': 'Российский фонд прямых инвестиций', 'rating': 0.0, 'type': 'institutes_services_df'}]\n"
     ]
    }
   ],
   "source": [
    "# 'Сервис',\n",
    "# 'Дата основания',\n",
    "# \"Фильтр 'Рынок' для Инновационных компаний\",\n",
    "# \"Фильтр 'Технологии' для Инновационных компаний\",\n",
    "# 'Бизнес-модель для Инновационных компаний'\n",
    "\n",
    "personal_recommend_to_send = {\n",
    "    'start_up': {\n",
    "        'service': ['Найти финансирование'],\n",
    "        'found_date': ['2021-06-01'],\n",
    "        'market_type': ['Healthcare', 'IndustrialTech'],\n",
    "        'tech_type': ['Биотехнологии'],\n",
    "        'tech_stack': ['ИТ, разработка ПО'],\n",
    "        'techp_residents': ['Технопарк \"Сколково\"'],\n",
    "        'b_model': ['B2C','B2B'],\n",
    "        'evo_stage': ['Посевная'],\n",
    "        'skolk_inno': [1],\n",
    "        'msk_inno': [1],\n",
    "        'nav_stat': [1],\n",
    "        'inno_comp': [1],\n",
    "        'start_up': [1],\n",
    "        'msp': [1],\n",
    "        'msp_cat': ['ИП Микро']\n",
    "    }\n",
    "}\n",
    "\n",
    "requests.get('http://127.0.0.1:5000/api/init')\n",
    "\n",
    "res1 = requests.post('http://127.0.0.1:5000/api/personalrecommend', json=personal_recommend_to_send)\n",
    "# res1 = requests.post('http://127.0.0.1:62180/easyrecommend', json=json.dumps(easy_recommend_to_send))\n",
    "print(res1.json())"
   ],
   "metadata": {
    "collapsed": false,
    "pycharm": {
     "name": "#%%\n"
    }
   }
  },
  {
   "cell_type": "code",
   "execution_count": 3,
   "outputs": [
    {
     "name": "stdout",
     "output_type": "stream",
     "text": [
      "[{'name': 'Акселератор Mendeleev', 'rating': 1.0, 'type': 'accelerator_services_df'}, {'name': 'Акселератор социальных проектов ФПСП', 'rating': 0.9347518143514024, 'type': 'accelerator_services_df'}, {'name': 'Акселератор социальных проектов МБМ', 'rating': 0.8956394099885537, 'type': 'accelerator_services_df'}, {'name': 'Московский акселератор. Трек BiomedTech', 'rating': 0.829752620342413, 'type': 'accelerator_services_df'}, {'name': 'Экспортный акселератор для московских компаний', 'rating': 0.763658750371263, 'type': 'accelerator_services_df'}, {'name': 'Акселератор Татнефть', 'rating': 0.6789909185895738, 'type': 'accelerator_services_df'}, {'name': 'Акселератор Цифрового прорыва', 'rating': 0.6693145468517965, 'type': 'accelerator_services_df'}, {'name': 'Физтех.Старт', 'rating': 0.6693145468517965, 'type': 'accelerator_services_df'}, {'name': 'Innovation DeepTech Acceleration \\nProgram ', 'rating': 0.6693145468517965, 'type': 'accelerator_services_df'}, {'name': 'ИНЖЕНЕР 4.0', 'rating': 0.6693145468517965, 'type': 'accelerator_services_df'}]\n"
     ]
    }
   ],
   "source": [
    "# 'Сервис',\n",
    "# 'Дата основания',\n",
    "# \"Фильтр 'Рынок' для Инновационных компаний\",\n",
    "# \"Фильтр 'Технологии' для Инновационных компаний\",\n",
    "# 'Бизнес-модель для Инновационных компаний'\n",
    "\n",
    "easy_recommend_to_send = {\n",
    "    'start_up': {\n",
    "        'service': ['Расширить нетворк'],\n",
    "        'found_date': ['2021-06-01'],\n",
    "        'market_type': ['Healthcare', 'CleanTech'],\n",
    "        'tech_type': ['Биотехнологии'],\n",
    "        'b_model': ['B2C'],\n",
    "        'evo_stage': ['Любая']\n",
    "    }\n",
    "}\n",
    "\n",
    "requests.get('http://127.0.0.1:5000/api/init')\n",
    "\n",
    "res1 = requests.post('http://127.0.0.1:5000/api/easyrecommend', json=easy_recommend_to_send)\n",
    "# res1 = requests.post('http://127.0.0.1:62180/easyrecommend', json=json.dumps(easy_recommend_to_send))\n",
    "print(res1.json())"
   ],
   "metadata": {
    "collapsed": false,
    "pycharm": {
     "name": "#%%\n"
    }
   }
  },
  {
   "cell_type": "code",
   "execution_count": 13,
   "outputs": [
    {
     "data": {
      "text/plain": "1"
     },
     "execution_count": 13,
     "metadata": {},
     "output_type": "execute_result"
    }
   ],
   "source": [
    "int(True)\n"
   ],
   "metadata": {
    "collapsed": false,
    "pycharm": {
     "name": "#%%\n"
    }
   }
  },
  {
   "cell_type": "code",
   "execution_count": 5,
   "outputs": [
    {
     "ename": "JSONDecodeError",
     "evalue": "Expecting value: line 1 column 1 (char 0)",
     "output_type": "error",
     "traceback": [
      "\u001B[1;31m---------------------------------------------------------------------------\u001B[0m",
      "\u001B[1;31mJSONDecodeError\u001B[0m                           Traceback (most recent call last)",
      "\u001B[1;32m<ipython-input-5-a0ed643df549>\u001B[0m in \u001B[0;36m<module>\u001B[1;34m\u001B[0m\n\u001B[0;32m     21\u001B[0m \u001B[0mres1\u001B[0m \u001B[1;33m=\u001B[0m \u001B[0mrequests\u001B[0m\u001B[1;33m.\u001B[0m\u001B[0mpost\u001B[0m\u001B[1;33m(\u001B[0m\u001B[1;34m'http://127.0.0.1:5000/api/easyrecommend'\u001B[0m\u001B[1;33m,\u001B[0m \u001B[0mjson\u001B[0m\u001B[1;33m=\u001B[0m\u001B[0measy_recommend_to_send\u001B[0m\u001B[1;33m)\u001B[0m\u001B[1;33m\u001B[0m\u001B[1;33m\u001B[0m\u001B[0m\n\u001B[0;32m     22\u001B[0m \u001B[1;31m# res1 = requests.post('http://127.0.0.1:62180/easyrecommend', json=json.dumps(easy_recommend_to_send))\u001B[0m\u001B[1;33m\u001B[0m\u001B[1;33m\u001B[0m\u001B[1;33m\u001B[0m\u001B[0m\n\u001B[1;32m---> 23\u001B[1;33m \u001B[0mprint\u001B[0m\u001B[1;33m(\u001B[0m\u001B[0mres1\u001B[0m\u001B[1;33m.\u001B[0m\u001B[0mjson\u001B[0m\u001B[1;33m(\u001B[0m\u001B[1;33m)\u001B[0m\u001B[1;33m)\u001B[0m\u001B[1;33m\u001B[0m\u001B[1;33m\u001B[0m\u001B[0m\n\u001B[0m\u001B[0;32m     24\u001B[0m \u001B[1;33m\u001B[0m\u001B[0m\n",
      "\u001B[1;32m~\\anaconda3\\envs\\bot\\lib\\site-packages\\requests\\models.py\u001B[0m in \u001B[0;36mjson\u001B[1;34m(self, **kwargs)\u001B[0m\n\u001B[0;32m    908\u001B[0m                     \u001B[1;31m# used.\u001B[0m\u001B[1;33m\u001B[0m\u001B[1;33m\u001B[0m\u001B[1;33m\u001B[0m\u001B[0m\n\u001B[0;32m    909\u001B[0m                     \u001B[1;32mpass\u001B[0m\u001B[1;33m\u001B[0m\u001B[1;33m\u001B[0m\u001B[0m\n\u001B[1;32m--> 910\u001B[1;33m         \u001B[1;32mreturn\u001B[0m \u001B[0mcomplexjson\u001B[0m\u001B[1;33m.\u001B[0m\u001B[0mloads\u001B[0m\u001B[1;33m(\u001B[0m\u001B[0mself\u001B[0m\u001B[1;33m.\u001B[0m\u001B[0mtext\u001B[0m\u001B[1;33m,\u001B[0m \u001B[1;33m**\u001B[0m\u001B[0mkwargs\u001B[0m\u001B[1;33m)\u001B[0m\u001B[1;33m\u001B[0m\u001B[1;33m\u001B[0m\u001B[0m\n\u001B[0m\u001B[0;32m    911\u001B[0m \u001B[1;33m\u001B[0m\u001B[0m\n\u001B[0;32m    912\u001B[0m     \u001B[1;33m@\u001B[0m\u001B[0mproperty\u001B[0m\u001B[1;33m\u001B[0m\u001B[1;33m\u001B[0m\u001B[0m\n",
      "\u001B[1;32m~\\anaconda3\\envs\\bot\\lib\\site-packages\\simplejson\\__init__.py\u001B[0m in \u001B[0;36mloads\u001B[1;34m(s, encoding, cls, object_hook, parse_float, parse_int, parse_constant, object_pairs_hook, use_decimal, **kw)\u001B[0m\n\u001B[0;32m    523\u001B[0m             \u001B[0mparse_constant\u001B[0m \u001B[1;32mis\u001B[0m \u001B[1;32mNone\u001B[0m \u001B[1;32mand\u001B[0m \u001B[0mobject_pairs_hook\u001B[0m \u001B[1;32mis\u001B[0m \u001B[1;32mNone\u001B[0m\u001B[1;33m\u001B[0m\u001B[1;33m\u001B[0m\u001B[0m\n\u001B[0;32m    524\u001B[0m             and not use_decimal and not kw):\n\u001B[1;32m--> 525\u001B[1;33m         \u001B[1;32mreturn\u001B[0m \u001B[0m_default_decoder\u001B[0m\u001B[1;33m.\u001B[0m\u001B[0mdecode\u001B[0m\u001B[1;33m(\u001B[0m\u001B[0ms\u001B[0m\u001B[1;33m)\u001B[0m\u001B[1;33m\u001B[0m\u001B[1;33m\u001B[0m\u001B[0m\n\u001B[0m\u001B[0;32m    526\u001B[0m     \u001B[1;32mif\u001B[0m \u001B[0mcls\u001B[0m \u001B[1;32mis\u001B[0m \u001B[1;32mNone\u001B[0m\u001B[1;33m:\u001B[0m\u001B[1;33m\u001B[0m\u001B[1;33m\u001B[0m\u001B[0m\n\u001B[0;32m    527\u001B[0m         \u001B[0mcls\u001B[0m \u001B[1;33m=\u001B[0m \u001B[0mJSONDecoder\u001B[0m\u001B[1;33m\u001B[0m\u001B[1;33m\u001B[0m\u001B[0m\n",
      "\u001B[1;32m~\\anaconda3\\envs\\bot\\lib\\site-packages\\simplejson\\decoder.py\u001B[0m in \u001B[0;36mdecode\u001B[1;34m(self, s, _w, _PY3)\u001B[0m\n\u001B[0;32m    368\u001B[0m         \u001B[1;32mif\u001B[0m \u001B[0m_PY3\u001B[0m \u001B[1;32mand\u001B[0m \u001B[0misinstance\u001B[0m\u001B[1;33m(\u001B[0m\u001B[0ms\u001B[0m\u001B[1;33m,\u001B[0m \u001B[0mbytes\u001B[0m\u001B[1;33m)\u001B[0m\u001B[1;33m:\u001B[0m\u001B[1;33m\u001B[0m\u001B[1;33m\u001B[0m\u001B[0m\n\u001B[0;32m    369\u001B[0m             \u001B[0ms\u001B[0m \u001B[1;33m=\u001B[0m \u001B[0mstr\u001B[0m\u001B[1;33m(\u001B[0m\u001B[0ms\u001B[0m\u001B[1;33m,\u001B[0m \u001B[0mself\u001B[0m\u001B[1;33m.\u001B[0m\u001B[0mencoding\u001B[0m\u001B[1;33m)\u001B[0m\u001B[1;33m\u001B[0m\u001B[1;33m\u001B[0m\u001B[0m\n\u001B[1;32m--> 370\u001B[1;33m         \u001B[0mobj\u001B[0m\u001B[1;33m,\u001B[0m \u001B[0mend\u001B[0m \u001B[1;33m=\u001B[0m \u001B[0mself\u001B[0m\u001B[1;33m.\u001B[0m\u001B[0mraw_decode\u001B[0m\u001B[1;33m(\u001B[0m\u001B[0ms\u001B[0m\u001B[1;33m)\u001B[0m\u001B[1;33m\u001B[0m\u001B[1;33m\u001B[0m\u001B[0m\n\u001B[0m\u001B[0;32m    371\u001B[0m         \u001B[0mend\u001B[0m \u001B[1;33m=\u001B[0m \u001B[0m_w\u001B[0m\u001B[1;33m(\u001B[0m\u001B[0ms\u001B[0m\u001B[1;33m,\u001B[0m \u001B[0mend\u001B[0m\u001B[1;33m)\u001B[0m\u001B[1;33m.\u001B[0m\u001B[0mend\u001B[0m\u001B[1;33m(\u001B[0m\u001B[1;33m)\u001B[0m\u001B[1;33m\u001B[0m\u001B[1;33m\u001B[0m\u001B[0m\n\u001B[0;32m    372\u001B[0m         \u001B[1;32mif\u001B[0m \u001B[0mend\u001B[0m \u001B[1;33m!=\u001B[0m \u001B[0mlen\u001B[0m\u001B[1;33m(\u001B[0m\u001B[0ms\u001B[0m\u001B[1;33m)\u001B[0m\u001B[1;33m:\u001B[0m\u001B[1;33m\u001B[0m\u001B[1;33m\u001B[0m\u001B[0m\n",
      "\u001B[1;32m~\\anaconda3\\envs\\bot\\lib\\site-packages\\simplejson\\decoder.py\u001B[0m in \u001B[0;36mraw_decode\u001B[1;34m(self, s, idx, _w, _PY3)\u001B[0m\n\u001B[0;32m    398\u001B[0m             \u001B[1;32melif\u001B[0m \u001B[0mord0\u001B[0m \u001B[1;33m==\u001B[0m \u001B[1;36m0xef\u001B[0m \u001B[1;32mand\u001B[0m \u001B[0ms\u001B[0m\u001B[1;33m[\u001B[0m\u001B[0midx\u001B[0m\u001B[1;33m:\u001B[0m\u001B[0midx\u001B[0m \u001B[1;33m+\u001B[0m \u001B[1;36m3\u001B[0m\u001B[1;33m]\u001B[0m \u001B[1;33m==\u001B[0m \u001B[1;34m'\\xef\\xbb\\xbf'\u001B[0m\u001B[1;33m:\u001B[0m\u001B[1;33m\u001B[0m\u001B[1;33m\u001B[0m\u001B[0m\n\u001B[0;32m    399\u001B[0m                 \u001B[0midx\u001B[0m \u001B[1;33m+=\u001B[0m \u001B[1;36m3\u001B[0m\u001B[1;33m\u001B[0m\u001B[1;33m\u001B[0m\u001B[0m\n\u001B[1;32m--> 400\u001B[1;33m         \u001B[1;32mreturn\u001B[0m \u001B[0mself\u001B[0m\u001B[1;33m.\u001B[0m\u001B[0mscan_once\u001B[0m\u001B[1;33m(\u001B[0m\u001B[0ms\u001B[0m\u001B[1;33m,\u001B[0m \u001B[0midx\u001B[0m\u001B[1;33m=\u001B[0m\u001B[0m_w\u001B[0m\u001B[1;33m(\u001B[0m\u001B[0ms\u001B[0m\u001B[1;33m,\u001B[0m \u001B[0midx\u001B[0m\u001B[1;33m)\u001B[0m\u001B[1;33m.\u001B[0m\u001B[0mend\u001B[0m\u001B[1;33m(\u001B[0m\u001B[1;33m)\u001B[0m\u001B[1;33m)\u001B[0m\u001B[1;33m\u001B[0m\u001B[1;33m\u001B[0m\u001B[0m\n\u001B[0m",
      "\u001B[1;32m~\\anaconda3\\envs\\bot\\lib\\site-packages\\simplejson\\scanner.py\u001B[0m in \u001B[0;36mscan_once\u001B[1;34m(string, idx)\u001B[0m\n\u001B[0;32m     77\u001B[0m             \u001B[1;32mraise\u001B[0m \u001B[0mJSONDecodeError\u001B[0m\u001B[1;33m(\u001B[0m\u001B[1;34m'Expecting value'\u001B[0m\u001B[1;33m,\u001B[0m \u001B[0mstring\u001B[0m\u001B[1;33m,\u001B[0m \u001B[0midx\u001B[0m\u001B[1;33m)\u001B[0m\u001B[1;33m\u001B[0m\u001B[1;33m\u001B[0m\u001B[0m\n\u001B[0;32m     78\u001B[0m         \u001B[1;32mtry\u001B[0m\u001B[1;33m:\u001B[0m\u001B[1;33m\u001B[0m\u001B[1;33m\u001B[0m\u001B[0m\n\u001B[1;32m---> 79\u001B[1;33m             \u001B[1;32mreturn\u001B[0m \u001B[0m_scan_once\u001B[0m\u001B[1;33m(\u001B[0m\u001B[0mstring\u001B[0m\u001B[1;33m,\u001B[0m \u001B[0midx\u001B[0m\u001B[1;33m)\u001B[0m\u001B[1;33m\u001B[0m\u001B[1;33m\u001B[0m\u001B[0m\n\u001B[0m\u001B[0;32m     80\u001B[0m         \u001B[1;32mfinally\u001B[0m\u001B[1;33m:\u001B[0m\u001B[1;33m\u001B[0m\u001B[1;33m\u001B[0m\u001B[0m\n\u001B[0;32m     81\u001B[0m             \u001B[0mmemo\u001B[0m\u001B[1;33m.\u001B[0m\u001B[0mclear\u001B[0m\u001B[1;33m(\u001B[0m\u001B[1;33m)\u001B[0m\u001B[1;33m\u001B[0m\u001B[1;33m\u001B[0m\u001B[0m\n",
      "\u001B[1;32m~\\anaconda3\\envs\\bot\\lib\\site-packages\\simplejson\\scanner.py\u001B[0m in \u001B[0;36m_scan_once\u001B[1;34m(string, idx)\u001B[0m\n\u001B[0;32m     68\u001B[0m             \u001B[1;32mreturn\u001B[0m \u001B[0mparse_constant\u001B[0m\u001B[1;33m(\u001B[0m\u001B[1;34m'-Infinity'\u001B[0m\u001B[1;33m)\u001B[0m\u001B[1;33m,\u001B[0m \u001B[0midx\u001B[0m \u001B[1;33m+\u001B[0m \u001B[1;36m9\u001B[0m\u001B[1;33m\u001B[0m\u001B[1;33m\u001B[0m\u001B[0m\n\u001B[0;32m     69\u001B[0m         \u001B[1;32melse\u001B[0m\u001B[1;33m:\u001B[0m\u001B[1;33m\u001B[0m\u001B[1;33m\u001B[0m\u001B[0m\n\u001B[1;32m---> 70\u001B[1;33m             \u001B[1;32mraise\u001B[0m \u001B[0mJSONDecodeError\u001B[0m\u001B[1;33m(\u001B[0m\u001B[0merrmsg\u001B[0m\u001B[1;33m,\u001B[0m \u001B[0mstring\u001B[0m\u001B[1;33m,\u001B[0m \u001B[0midx\u001B[0m\u001B[1;33m)\u001B[0m\u001B[1;33m\u001B[0m\u001B[1;33m\u001B[0m\u001B[0m\n\u001B[0m\u001B[0;32m     71\u001B[0m \u001B[1;33m\u001B[0m\u001B[0m\n\u001B[0;32m     72\u001B[0m     \u001B[1;32mdef\u001B[0m \u001B[0mscan_once\u001B[0m\u001B[1;33m(\u001B[0m\u001B[0mstring\u001B[0m\u001B[1;33m,\u001B[0m \u001B[0midx\u001B[0m\u001B[1;33m)\u001B[0m\u001B[1;33m:\u001B[0m\u001B[1;33m\u001B[0m\u001B[1;33m\u001B[0m\u001B[0m\n",
      "\u001B[1;31mJSONDecodeError\u001B[0m: Expecting value: line 1 column 1 (char 0)"
     ]
    }
   ],
   "source": [
    "# 'Сервис',\n",
    "# 'Дата основания',\n",
    "# \"Фильтр 'Рынок' для Инновационных компаний\",\n",
    "# \"Фильтр 'Технологии' для Инновационных компаний\",\n",
    "# 'Бизнес-модель для Инновационных компаний'\n",
    "\n",
    "easy_recommend_to_send = {\n",
    "    \"start_up\":\n",
    "        {\n",
    "            \"b_model\":[\"B2C\",\"B2B2C\",\"P2P\",\"B2B\"],\n",
    "            \"found_date\":[\"2021-07-28\"],\n",
    "            \"market_type\":[\"Healthcare\",\"IndustrialTech\"],\n",
    "            \"service\":[\"Протестировать продукт\"],\n",
    "            \"tech_type\":[\"Биотехнологии\"],\n",
    "            \"evo_stage\":[\"Расширение\"]\n",
    "        }\n",
    "}\n",
    "\n",
    "requests.get('http://127.0.0.1:5000/api/init')\n",
    "\n",
    "res1 = requests.post('http://127.0.0.1:5000/api/easyrecommend', json=easy_recommend_to_send)\n",
    "# res1 = requests.post('http://127.0.0.1:62180/easyrecommend', json=json.dumps(easy_recommend_to_send))\n",
    "print(res1.json())"
   ],
   "metadata": {
    "collapsed": false,
    "pycharm": {
     "name": "#%%\n"
    }
   }
  },
  {
   "cell_type": "code",
   "execution_count": 136,
   "outputs": [
    {
     "name": "stdout",
     "output_type": "stream",
     "text": [
      "[{'name': 'Бизнес-инкубатор МФТИ', 'rating': 1.0, 'type': 'business_incubs_services_df'}, {'name': 'Акселератор MTS StartUp Hub ', 'rating': 0.3890867675615267, 'type': 'accelerator_services_df'}]\n"
     ]
    }
   ],
   "source": [
    "# 'Сервис',\n",
    "# 'Дата основания',\n",
    "# \"Фильтр 'Рынок' для Инновационных компаний\",\n",
    "# \"Фильтр 'Технологии' для Инновационных компаний\",\n",
    "# 'Бизнес-модель для Инновационных компаний'\n",
    "\n",
    "easy_recommend_to_send = {\n",
    "    \"start_up\":\n",
    "        {\n",
    "            \"b_model\":[\"B2G\"],\n",
    "            \"found_date\":[\"2021-07-07\"],\n",
    "            \"market_type\":[\"FashionTech\",\"Advertising & Marketing\",\"Gaming\"],\n",
    "            \"service\":[\"Найти помещение в аренду\"],\n",
    "            \"tech_type\":[\"Компьютерное зрение\",\"Биотехнологии\",\"Новые и портативные источники энергии\"],\n",
    "            \"evo_stage\":[\"Ранний рост\"]\n",
    "        }\n",
    "}\n",
    "\n",
    "requests.get('https://testdragonsflask.herokuapp.com/api/init')\n",
    "\n",
    "res_heroku = requests.post('https://testdragonsflask.herokuapp.com/api/easyrecommend', json=easy_recommend_to_send)\n",
    "print(res_heroku.json())"
   ],
   "metadata": {
    "collapsed": false,
    "pycharm": {
     "name": "#%%\n"
    }
   }
  },
  {
   "cell_type": "code",
   "execution_count": 2,
   "outputs": [],
   "source": [
    "companies_dict = pd.read_excel('D:\\heroku_test\\Companies.xlsx', sheet_name=None)\n",
    "deals_dict = pd.read_excel('D:\\heroku_test\\Deals.xlsx', sheet_name=None)\n",
    "services_dict = pd.read_excel('D:\\heroku_test\\Services.xlsx', sheet_name=None)"
   ],
   "metadata": {
    "collapsed": false,
    "pycharm": {
     "name": "#%%\n"
    }
   }
  },
  {
   "cell_type": "code",
   "execution_count": 3,
   "outputs": [],
   "source": [
    "engi_centres_services_df = services_dict['Список инжиниринговых центров'][['Название объекта', 'Рынок', 'Технологии', 'Сервисы']]"
   ],
   "metadata": {
    "collapsed": false,
    "pycharm": {
     "name": "#%%\n"
    }
   }
  },
  {
   "cell_type": "code",
   "execution_count": 4,
   "outputs": [],
   "source": [
    "engi_centres_services_df.to_csv('engi_centres_services.csv')"
   ],
   "metadata": {
    "collapsed": false,
    "pycharm": {
     "name": "#%%\n"
    }
   }
  },
  {
   "cell_type": "code",
   "execution_count": 5,
   "outputs": [],
   "source": [
    "context = pd.read_csv('train_data.csv')\n",
    "train_context = context.drop(\n",
    "    [\n",
    "        'Unnamed: 0',\n",
    "        'is_funded',\n",
    "        'name',\n",
    "        'nalog_id',\n",
    "        'project_name',\n",
    "        'service',\n",
    "        'NoneType',\n",
    "        'Наименование стартапа',\n",
    "        'ИНН',\n",
    "        'Стадия стартапа',\n",
    "        'Сфера стартапа',\n",
    "        'Технология',\n",
    "        'Пользователь',\n",
    "        'Частный фонд_сумма, долл',\n",
    "        'Государственный фонд_сумма, долл',\n",
    "        'Акселератор_сумма, долл',\n",
    "        'Корпоративный инвестор_сумма, долл',\n",
    "        'Корпоративный фонд_сумма, долл'\n",
    "    ]\n",
    ",axis=1)\n",
    "\n",
    "private_fond_actions = train_context['Частный фонд'].apply(lambda x: 0 if x == 'None' else 1).tolist()\n",
    "goverm_fond_actions = train_context['Государственный фонд'].apply(lambda x: 0 if x == 'None' else 1).tolist()\n",
    "accel_actions = train_context['Акселератор'].apply(lambda x: 0 if x == 'None' else 1).tolist()\n",
    "corporate_fond_actions = train_context['Корпоративный фонд'].apply(lambda x: 0 if x == 'None' else 1).tolist()\n",
    "corporate_inv_actions = train_context['Корпоративный инвестор'].apply(lambda x: 0 if x == 'None' else 1).tolist()\n",
    "\n",
    "actions_list = [\n",
    "    private_fond_actions,\n",
    "    goverm_fond_actions,\n",
    "    accel_actions,\n",
    "    corporate_fond_actions,\n",
    "    corporate_inv_actions\n",
    "]\n",
    "\n",
    "context_df = train_context.drop(['Частный фонд', 'Государственный фонд', 'Акселератор', 'Корпоративный фонд', 'Корпоративный инвестор'], axis=1)\n",
    "context_columns = context_df.columns.tolist()"
   ],
   "metadata": {
    "collapsed": false,
    "pycharm": {
     "name": "#%%\n"
    }
   }
  },
  {
   "cell_type": "code",
   "execution_count": 6,
   "outputs": [],
   "source": [
    "from space_bandits import LinearBandits\n",
    "from space_bandits import NeuralBandits\n",
    "from tqdm import tqdm"
   ],
   "metadata": {
    "collapsed": false,
    "pycharm": {
     "name": "#%%\n"
    }
   }
  },
  {
   "cell_type": "code",
   "execution_count": 7,
   "outputs": [],
   "source": [
    "num_actions = 3\n",
    "num_features = len(context_columns)\n",
    "bandit_model = LinearBandits(num_actions, num_features)"
   ],
   "metadata": {
    "collapsed": false,
    "pycharm": {
     "name": "#%%\n"
    }
   }
  },
  {
   "cell_type": "code",
   "execution_count": 8,
   "outputs": [
    {
     "data": {
      "text/plain": "240"
     },
     "execution_count": 8,
     "metadata": {},
     "output_type": "execute_result"
    }
   ],
   "source": [
    "success_df = train_context[context_columns]\n",
    "success_df.shape[0]"
   ],
   "metadata": {
    "collapsed": false,
    "pycharm": {
     "name": "#%%\n"
    }
   }
  },
  {
   "cell_type": "code",
   "execution_count": 10,
   "outputs": [
    {
     "name": "stderr",
     "output_type": "stream",
     "text": [
      "100%|██████████| 240/240 [00:02<00:00, 82.53it/s]\n"
     ]
    }
   ],
   "source": [
    "for i in tqdm(range(success_df.shape[0])):\n",
    "\n",
    "    for action in range(len(actions_list)):\n",
    "        final_act = 0\n",
    "        if (action == 1):\n",
    "            final_act = 1\n",
    "        if (action == 3) or (action == 4):\n",
    "            final_act = 2\n",
    "        bandit_model.update(\n",
    "            context=success_df.iloc[i],\n",
    "            action=final_act,\n",
    "            reward=actions_list[action][i]\n",
    "        )\n",
    "\n"
   ],
   "metadata": {
    "collapsed": false,
    "pycharm": {
     "name": "#%%\n"
    }
   }
  },
  {
   "cell_type": "code",
   "execution_count": 11,
   "outputs": [],
   "source": [
    "failed = pd.read_csv('context_df.csv')\n",
    "failed = failed[failed.is_funded == 0][context_columns]"
   ],
   "metadata": {
    "collapsed": false,
    "pycharm": {
     "name": "#%%\n"
    }
   }
  },
  {
   "cell_type": "code",
   "execution_count": 12,
   "outputs": [
    {
     "name": "stderr",
     "output_type": "stream",
     "text": [
      "100%|██████████| 2457/2457 [01:53<00:00, 21.69it/s]\n"
     ]
    }
   ],
   "source": [
    "for i in tqdm(range(failed.shape[0])):\n",
    "\n",
    "    for action in range(len(actions_list)):\n",
    "        final_act = 0\n",
    "        if (action == 1):\n",
    "            final_act = 1\n",
    "        if (action == 3) or (action == 4):\n",
    "            final_act = 2\n",
    "        bandit_model.update(\n",
    "            context=failed.iloc[i],\n",
    "            action=final_act,\n",
    "            reward=0\n",
    "        )\n"
   ],
   "metadata": {
    "collapsed": false,
    "pycharm": {
     "name": "#%%\n"
    }
   }
  },
  {
   "cell_type": "code",
   "execution_count": 14,
   "outputs": [
    {
     "name": "stderr",
     "output_type": "stream",
     "text": [
      "100%|██████████| 2457/2457 [01:09<00:00, 35.46it/s]\n"
     ]
    }
   ],
   "source": [
    "result = []\n",
    "for i in tqdm(range(failed.shape[0])):\n",
    "\n",
    "    result += [bandit_model.action(\n",
    "        context=failed.iloc[i].to_numpy()\n",
    "    )]"
   ],
   "metadata": {
    "collapsed": false,
    "pycharm": {
     "name": "#%%\n"
    }
   }
  },
  {
   "cell_type": "code",
   "execution_count": 15,
   "outputs": [
    {
     "data": {
      "text/plain": "[2,\n 2,\n 1,\n 0,\n 1,\n 0,\n 2,\n 2,\n 2,\n 2,\n 1,\n 0,\n 1,\n 0,\n 1,\n 0,\n 0,\n 1,\n 2,\n 2,\n 1,\n 0,\n 0,\n 0,\n 2,\n 0,\n 1,\n 1,\n 2,\n 1,\n 1,\n 2,\n 0,\n 2,\n 0,\n 1,\n 0,\n 1,\n 0,\n 1,\n 0,\n 0,\n 2,\n 2,\n 2,\n 0,\n 0,\n 0,\n 0,\n 1,\n 2,\n 1,\n 0,\n 1,\n 2,\n 1,\n 0,\n 2,\n 0,\n 0,\n 2,\n 0,\n 0,\n 2,\n 1,\n 0,\n 2,\n 1,\n 1,\n 1,\n 0,\n 1,\n 0,\n 1,\n 0,\n 0,\n 0,\n 2,\n 2,\n 0,\n 2,\n 0,\n 2,\n 0,\n 1,\n 1,\n 1,\n 1,\n 0,\n 0,\n 1,\n 0,\n 0,\n 1,\n 1,\n 1,\n 2,\n 0,\n 0,\n 0,\n 1,\n 2,\n 0,\n 0,\n 1,\n 1,\n 2,\n 2,\n 1,\n 0,\n 2,\n 2,\n 1,\n 0,\n 0,\n 1,\n 1,\n 0,\n 0,\n 2,\n 1,\n 1,\n 1,\n 1,\n 0,\n 0,\n 1,\n 1,\n 2,\n 0,\n 0,\n 2,\n 1,\n 0,\n 1,\n 2,\n 1,\n 1,\n 0,\n 2,\n 1,\n 1,\n 0,\n 2,\n 1,\n 0,\n 2,\n 1,\n 1,\n 1,\n 0,\n 1,\n 0,\n 1,\n 0,\n 2,\n 0,\n 2,\n 0,\n 1,\n 0,\n 1,\n 1,\n 1,\n 2,\n 0,\n 2,\n 1,\n 0,\n 0,\n 2,\n 0,\n 1,\n 1,\n 0,\n 0,\n 1,\n 2,\n 0,\n 2,\n 1,\n 1,\n 0,\n 2,\n 0,\n 1,\n 0,\n 2,\n 0,\n 1,\n 2,\n 0,\n 0,\n 1,\n 0,\n 1,\n 2,\n 1,\n 0,\n 0,\n 0,\n 2,\n 0,\n 0,\n 1,\n 1,\n 2,\n 2,\n 1,\n 1,\n 2,\n 0,\n 0,\n 1,\n 2,\n 0,\n 0,\n 0,\n 0,\n 0,\n 2,\n 1,\n 0,\n 0,\n 0,\n 0,\n 2,\n 0,\n 2,\n 1,\n 1,\n 2,\n 1,\n 1,\n 0,\n 0,\n 2,\n 2,\n 0,\n 0,\n 1,\n 0,\n 0,\n 0,\n 0,\n 1,\n 0,\n 1,\n 0,\n 1,\n 0,\n 1,\n 1,\n 0,\n 2,\n 1,\n 2,\n 2,\n 1,\n 1,\n 2,\n 0,\n 0,\n 0,\n 1,\n 1,\n 2,\n 0,\n 0,\n 1,\n 0,\n 0,\n 0,\n 1,\n 0,\n 0,\n 2,\n 1,\n 0,\n 0,\n 0,\n 0,\n 1,\n 0,\n 0,\n 1,\n 0,\n 0,\n 0,\n 0,\n 0,\n 0,\n 1,\n 2,\n 0,\n 1,\n 0,\n 1,\n 2,\n 0,\n 0,\n 2,\n 0,\n 1,\n 1,\n 1,\n 0,\n 0,\n 1,\n 0,\n 2,\n 0,\n 1,\n 1,\n 2,\n 2,\n 0,\n 0,\n 2,\n 2,\n 2,\n 0,\n 0,\n 0,\n 0,\n 1,\n 0,\n 1,\n 2,\n 0,\n 0,\n 2,\n 1,\n 1,\n 1,\n 2,\n 0,\n 1,\n 1,\n 0,\n 0,\n 2,\n 0,\n 2,\n 0,\n 0,\n 2,\n 0,\n 2,\n 2,\n 2,\n 1,\n 2,\n 2,\n 2,\n 0,\n 2,\n 0,\n 1,\n 2,\n 0,\n 1,\n 0,\n 0,\n 0,\n 1,\n 2,\n 2,\n 0,\n 1,\n 2,\n 1,\n 0,\n 1,\n 2,\n 0,\n 0,\n 1,\n 1,\n 1,\n 2,\n 2,\n 1,\n 2,\n 0,\n 0,\n 0,\n 0,\n 0,\n 0,\n 1,\n 0,\n 0,\n 2,\n 0,\n 2,\n 0,\n 0,\n 2,\n 0,\n 0,\n 2,\n 0,\n 1,\n 0,\n 2,\n 0,\n 0,\n 2,\n 2,\n 0,\n 2,\n 0,\n 0,\n 0,\n 1,\n 0,\n 2,\n 0,\n 0,\n 2,\n 2,\n 1,\n 0,\n 0,\n 1,\n 0,\n 0,\n 1,\n 1,\n 0,\n 1,\n 1,\n 0,\n 0,\n 2,\n 1,\n 0,\n 0,\n 1,\n 2,\n 1,\n 0,\n 0,\n 0,\n 0,\n 2,\n 0,\n 0,\n 0,\n 0,\n 1,\n 0,\n 0,\n 0,\n 1,\n 2,\n 0,\n 0,\n 0,\n 0,\n 0,\n 0,\n 1,\n 0,\n 2,\n 1,\n 0,\n 0,\n 0,\n 2,\n 0,\n 0,\n 2,\n 0,\n 0,\n 0,\n 0,\n 0,\n 2,\n 2,\n 1,\n 0,\n 0,\n 0,\n 0,\n 1,\n 2,\n 2,\n 0,\n 0,\n 1,\n 1,\n 0,\n 1,\n 0,\n 1,\n 1,\n 0,\n 0,\n 1,\n 2,\n 1,\n 0,\n 0,\n 1,\n 1,\n 0,\n 1,\n 0,\n 2,\n 0,\n 2,\n 0,\n 0,\n 0,\n 0,\n 2,\n 0,\n 2,\n 1,\n 0,\n 0,\n 2,\n 0,\n 0,\n 0,\n 0,\n 0,\n 0,\n 1,\n 0,\n 1,\n 2,\n 0,\n 0,\n 1,\n 0,\n 2,\n 1,\n 2,\n 2,\n 1,\n 2,\n 0,\n 2,\n 1,\n 0,\n 2,\n 0,\n 1,\n 1,\n 0,\n 1,\n 2,\n 2,\n 0,\n 2,\n 1,\n 0,\n 0,\n 0,\n 0,\n 2,\n 2,\n 0,\n 0,\n 0,\n 1,\n 0,\n 1,\n 0,\n 1,\n 2,\n 0,\n 2,\n 0,\n 0,\n 0,\n 0,\n 2,\n 2,\n 0,\n 0,\n 0,\n 2,\n 0,\n 0,\n 2,\n 0,\n 0,\n 0,\n 1,\n 0,\n 0,\n 1,\n 0,\n 2,\n 0,\n 0,\n 0,\n 0,\n 2,\n 2,\n 2,\n 1,\n 2,\n 0,\n 0,\n 0,\n 0,\n 0,\n 1,\n 0,\n 0,\n 1,\n 2,\n 0,\n 0,\n 2,\n 0,\n 2,\n 0,\n 1,\n 2,\n 0,\n 0,\n 0,\n 0,\n 2,\n 0,\n 0,\n 0,\n 0,\n 1,\n 0,\n 2,\n 0,\n 0,\n 2,\n 0,\n 0,\n 2,\n 0,\n 0,\n 1,\n 1,\n 0,\n 2,\n 1,\n 2,\n 0,\n 2,\n 0,\n 2,\n 0,\n 0,\n 0,\n 0,\n 2,\n 0,\n 1,\n 2,\n 1,\n 2,\n 0,\n 2,\n 1,\n 0,\n 0,\n 1,\n 2,\n 0,\n 2,\n 1,\n 0,\n 1,\n 1,\n 2,\n 0,\n 1,\n 1,\n 0,\n 2,\n 0,\n 0,\n 0,\n 0,\n 0,\n 0,\n 0,\n 2,\n 0,\n 2,\n 0,\n 0,\n 0,\n 1,\n 1,\n 2,\n 0,\n 0,\n 1,\n 2,\n 0,\n 0,\n 1,\n 2,\n 0,\n 1,\n 2,\n 1,\n 2,\n 0,\n 0,\n 0,\n 1,\n 2,\n 2,\n 0,\n 0,\n 2,\n 0,\n 1,\n 1,\n 2,\n 0,\n 0,\n 0,\n 2,\n 0,\n 2,\n 2,\n 1,\n 0,\n 2,\n 0,\n 2,\n 2,\n 0,\n 2,\n 0,\n 0,\n 2,\n 0,\n 0,\n 0,\n 1,\n 0,\n 0,\n 0,\n 0,\n 2,\n 0,\n 0,\n 2,\n 0,\n 0,\n 0,\n 0,\n 2,\n 1,\n 0,\n 1,\n 0,\n 1,\n 0,\n 0,\n 1,\n 1,\n 0,\n 2,\n 0,\n 1,\n 0,\n 0,\n 0,\n 0,\n 1,\n 0,\n 0,\n 1,\n 0,\n 0,\n 1,\n 2,\n 2,\n 1,\n 0,\n 2,\n 0,\n 0,\n 0,\n 0,\n 1,\n 0,\n 2,\n 0,\n 1,\n 1,\n 2,\n 0,\n 0,\n 0,\n 2,\n 0,\n 0,\n 1,\n 1,\n 0,\n 2,\n 0,\n 0,\n 1,\n 2,\n 0,\n 2,\n 0,\n 0,\n 2,\n 0,\n 1,\n 0,\n 0,\n 0,\n 0,\n 1,\n 0,\n 0,\n 0,\n 0,\n 0,\n 2,\n 0,\n 2,\n 2,\n 2,\n 1,\n 2,\n 2,\n 0,\n 0,\n 2,\n 2,\n 0,\n 0,\n 1,\n 2,\n 0,\n 1,\n 1,\n 0,\n 0,\n 0,\n 2,\n 1,\n 0,\n 0,\n 0,\n 0,\n 0,\n 1,\n 1,\n 0,\n 2,\n 0,\n 2,\n 1,\n 2,\n 2,\n 2,\n 0,\n 0,\n 2,\n 1,\n 1,\n 1,\n 0,\n 1,\n 0,\n 1,\n 2,\n 0,\n 2,\n 2,\n 1,\n 0,\n 2,\n 1,\n 2,\n 2,\n 1,\n 0,\n 0,\n 1,\n 1,\n 2,\n 0,\n 0,\n 2,\n 2,\n 1,\n 2,\n 0,\n 1,\n 0,\n 0,\n 0,\n 0,\n 2,\n 1,\n 2,\n 1,\n 0,\n 2,\n 0,\n 0,\n 0,\n 2,\n 1,\n 1,\n 0,\n 2,\n 2,\n 2,\n 0,\n 2,\n 0,\n 1,\n 0,\n 0,\n 0,\n 1,\n 0,\n 0,\n 0,\n 0,\n 2,\n 1,\n 2,\n 0,\n 2,\n 0,\n 0,\n 2,\n 1,\n 1,\n 2,\n 1,\n 0,\n 1,\n 2,\n 2,\n 2,\n 2,\n 0,\n 0,\n 1,\n 0,\n 0,\n 0,\n 0,\n 0,\n 0,\n 1,\n 0,\n 0,\n 1,\n 0,\n 0,\n 0,\n 0,\n 2,\n 1,\n 0,\n 1,\n 1,\n 2,\n 0,\n 2,\n 2,\n 2,\n 0,\n 1,\n 0,\n 0,\n 1,\n 2,\n 2,\n 2,\n 2,\n 0,\n 2,\n 1,\n 0,\n 2,\n 2,\n 1,\n 2,\n 0,\n ...]"
     },
     "execution_count": 15,
     "metadata": {},
     "output_type": "execute_result"
    }
   ],
   "source": [
    "result"
   ],
   "metadata": {
    "collapsed": false,
    "pycharm": {
     "name": "#%%\n"
    }
   }
  },
  {
   "cell_type": "code",
   "execution_count": 17,
   "outputs": [],
   "source": [
    "import pickle"
   ],
   "metadata": {
    "collapsed": false,
    "pycharm": {
     "name": "#%%\n"
    }
   }
  },
  {
   "cell_type": "code",
   "execution_count": 18,
   "outputs": [],
   "source": [
    "with open('bandit_model.pkl', 'wb') as handle:\n",
    "    pickle.dump(bandit_model, handle, protocol=pickle.HIGHEST_PROTOCOL)"
   ],
   "metadata": {
    "collapsed": false,
    "pycharm": {
     "name": "#%%\n"
    }
   }
  },
  {
   "cell_type": "code",
   "execution_count": 97,
   "outputs": [],
   "source": [
    "with open('context_columns.pkl', 'wb') as handle:\n",
    "    pickle.dump(context_columns, handle, protocol=pickle.HIGHEST_PROTOCOL)"
   ],
   "metadata": {
    "collapsed": false,
    "pycharm": {
     "name": "#%%\n"
    }
   }
  },
  {
   "cell_type": "code",
   "execution_count": 38,
   "outputs": [],
   "source": [
    "temp_df = pd.read_csv('institutes.csv')\n",
    "temp_df['type'] = 1\n",
    "temp_df.to_csv('institutes.csv')\n"
   ],
   "metadata": {
    "collapsed": false,
    "pycharm": {
     "name": "#%%\n"
    }
   }
  }
 ],
 "metadata": {
  "kernelspec": {
   "display_name": "Python 3",
   "language": "python",
   "name": "python3"
  },
  "language_info": {
   "codemirror_mode": {
    "name": "ipython",
    "version": 2
   },
   "file_extension": ".py",
   "mimetype": "text/x-python",
   "name": "python",
   "nbconvert_exporter": "python",
   "pygments_lexer": "ipython2",
   "version": "2.7.6"
  }
 },
 "nbformat": 4,
 "nbformat_minor": 0
}