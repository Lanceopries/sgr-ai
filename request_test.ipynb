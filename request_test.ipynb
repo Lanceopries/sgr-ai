{
 "cells": [
  {
   "cell_type": "code",
   "execution_count": 1,
   "metadata": {
    "collapsed": true
   },
   "outputs": [],
   "source": [
    "import json\n",
    "import requests\n",
    "import pandas as pd"
   ]
  },
  {
   "cell_type": "code",
   "execution_count": 5,
   "outputs": [
    {
     "name": "stdout",
     "output_type": "stream",
     "text": [
      "['Тотал Вижен', 'Экс Севен Ресеч', 'Автономная некоммерческая организация \"Аналитика и\\xa0высокие технологии\"', 'Модуль 42', 'Инкубатор \"Три\"', 'Центр прототипирования', 'Институт инновационного проектирования и инжиниринга', 'Инжиниринговый центр \"Автоматика и робототехника\" МГТУ им. Н.Э.Баумана']\n"
     ]
    }
   ],
   "source": [
    "# 'Сервис',\n",
    "# 'Дата основания',\n",
    "# \"Фильтр 'Рынок' для Инновационных компаний\",\n",
    "# \"Фильтр 'Технологии' для Инновационных компаний\",\n",
    "# 'Бизнес-модель для Инновационных компаний'\n",
    "\n",
    "easy_recommend_to_send = {\n",
    "    'start_up': {\n",
    "        'service': 'Московский акселератор',\n",
    "        'found_date': '2021-06-01',\n",
    "        'market_type': ['Healthcare'],\n",
    "        'tech_type': ['Биотехнологии'],\n",
    "        'b_model': ['B2C']\n",
    "    }\n",
    "}\n",
    "\n",
    "res1 = requests.post('http://127.0.0.1:5000/easyrecommend', json=json.dumps(easy_recommend_to_send))\n",
    "# res1 = requests.post('http://127.0.0.1:62180/easyrecommend', json=json.dumps(easy_recommend_to_send))\n",
    "print(res1.json())"
   ],
   "metadata": {
    "collapsed": false,
    "pycharm": {
     "name": "#%%\n"
    }
   }
  },
  {
   "cell_type": "code",
   "execution_count": 8,
   "outputs": [
    {
     "name": "stdout",
     "output_type": "stream",
     "text": [
      "['Тотал Вижен', 'Экс Севен Ресеч', 'Автономная некоммерческая организация \"Аналитика и\\xa0высокие технологии\"', 'Модуль 42', 'Инкубатор \"Три\"', 'Центр прототипирования', 'Институт инновационного проектирования и инжиниринга', 'Инжиниринговый центр \"Автоматика и робототехника\" МГТУ им. Н.Э.Баумана']\n"
     ]
    }
   ],
   "source": [
    "# 'Сервис',\n",
    "# 'Дата основания',\n",
    "# \"Фильтр 'Рынок' для Инновационных компаний\",\n",
    "# \"Фильтр 'Технологии' для Инновационных компаний\",\n",
    "# 'Бизнес-модель для Инновационных компаний'\n",
    "\n",
    "easy_recommend_to_send = {\n",
    "    'start_up': {\n",
    "        'service': 'Московский акселератор',\n",
    "        'found_date': '2021-06-01',\n",
    "        'market_type': ['Healthcare'],\n",
    "        'tech_type': ['Биотехнологии'],\n",
    "        'b_model': ['B2C']\n",
    "    }\n",
    "}\n",
    "\n",
    "res_heroku = requests.post('https://testdragonsflask.herokuapp.com/easyrecommend', json=json.dumps(easy_recommend_to_send))\n",
    "# res1 = requests.post('http://127.0.0.1:62180/easyrecommend', json=json.dumps(easy_recommend_to_send))\n",
    "print(res_heroku.json())"
   ],
   "metadata": {
    "collapsed": false,
    "pycharm": {
     "name": "#%%\n"
    }
   }
  },
  {
   "cell_type": "code",
   "execution_count": 2,
   "outputs": [],
   "source": [
    "companies_dict = pd.read_excel('D:\\heroku_test\\Companies.xlsx', sheet_name=None)\n",
    "deals_dict = pd.read_excel('D:\\heroku_test\\Deals.xlsx', sheet_name=None)\n",
    "services_dict = pd.read_excel('D:\\heroku_test\\Services.xlsx', sheet_name=None)"
   ],
   "metadata": {
    "collapsed": false,
    "pycharm": {
     "name": "#%%\n"
    }
   }
  },
  {
   "cell_type": "code",
   "execution_count": 3,
   "outputs": [],
   "source": [
    "engi_centres_services_df = services_dict['Список инжиниринговых центров'][['Название объекта', 'Рынок', 'Технологии', 'Сервисы']]"
   ],
   "metadata": {
    "collapsed": false,
    "pycharm": {
     "name": "#%%\n"
    }
   }
  },
  {
   "cell_type": "code",
   "execution_count": 4,
   "outputs": [],
   "source": [
    "engi_centres_services_df.to_csv('engi_centres_services.csv')\n"
   ],
   "metadata": {
    "collapsed": false,
    "pycharm": {
     "name": "#%%\n"
    }
   }
  }
 ],
 "metadata": {
  "kernelspec": {
   "display_name": "Python 3",
   "language": "python",
   "name": "python3"
  },
  "language_info": {
   "codemirror_mode": {
    "name": "ipython",
    "version": 2
   },
   "file_extension": ".py",
   "mimetype": "text/x-python",
   "name": "python",
   "nbconvert_exporter": "python",
   "pygments_lexer": "ipython2",
   "version": "2.7.6"
  }
 },
 "nbformat": 4,
 "nbformat_minor": 0
}